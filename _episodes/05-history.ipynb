{
 "cells": [
  {
   "cell_type": "raw",
   "id": "137b5539",
   "metadata": {},
   "source": [
    "---\n",
    "\n",
    "---"
   ]
  },
  {
   "cell_type": "markdown",
   "id": "4ef5636d",
   "metadata": {},
   "source": [
    "\n",
    "```\n",
    "```\n",
    "\n",
    "---\n",
    "title: Exploring History\n",
    "teaching: 25\n",
    "exercises: 0\n",
    "questions:\n",
    "- \"How can I identify old versions of files?\"\n",
    "- \"How do I review my changes?\"\n",
    "- \"How can I recover old versions of files?\"\n",
    "objectives:\n",
    "- \"Explain what the HEAD of a repository is and how to use it.\"\n",
    "- \"Identify and use Git commit numbers.\"\n",
    "- \"Compare various versions of tracked files.\"\n",
    "- \"Restore old versions of files.\"\n",
    "keypoints:\n",
    "- \"`git diff` displays differences between commits.\"\n",
    "- \"`git checkout` recovers old versions of files.\"\n",
    "---\n",
    "As we saw in the previous episode, we can refer to commits by their\n",
    "identifiers.  You can refer to the _most recent commit_ of the working\n",
    "directory by using the identifier `HEAD`.\n",
    "We've been adding one line at a time to `mars.txt`, so it's easy to track our\n",
    "progress by looking, so let's do that using our `HEAD`s.  Before we start,\n",
    "let's make a change to `mars.txt`, adding yet another line."
   ]
  },
  {
   "cell_type": "code",
   "execution_count": null,
   "id": "01afd1f6",
   "metadata": {},
   "outputs": [],
   "source": [
    "%%bash\n",
    "$ nano mars.txt\n",
    "$ cat mars.txt"
   ]
  },
  {
   "cell_type": "markdown",
   "id": "b500a6ef",
   "metadata": {},
   "source": [
    "{: .language-bash}\n",
    "\n",
    "```\n",
    "Cold and dry, but everything is my favorite color\n",
    "The two moons may be a problem for Wolfman\n",
    "But the Mummy will appreciate the lack of humidity\n",
    "An ill-considered change\n",
    "```\n",
    "\n",
    "{: .output}\n",
    "Now, let's see what we get."
   ]
  },
  {
   "cell_type": "code",
   "execution_count": null,
   "id": "e1836367",
   "metadata": {},
   "outputs": [],
   "source": [
    "%%bash\n",
    "$ git diff HEAD mars.txt"
   ]
  },
  {
   "cell_type": "markdown",
   "id": "493765ef",
   "metadata": {},
   "source": [
    "{: .language-bash}\n",
    "\n",
    "```\n",
    "diff --git a/mars.txt b/mars.txt\n",
    "index b36abfd..0848c8d 100644\n",
    "--- a/mars.txt\n",
    "+++ b/mars.txt\n",
    "@@ -1,3 +1,4 @@\n",
    "Cold and dry, but everything is my favorite color\n",
    "The two moons may be a problem for Wolfman\n",
    "But the Mummy will appreciate the lack of humidity\n",
    "+An ill-considered change.\n",
    "```\n",
    "\n",
    "{: .output}\n",
    "which is the same as what you would get if you leave out `HEAD` (try it).  The\n",
    "real goodness in all this is when you can refer to previous commits.  We do\n",
    "that by adding `~1`\n",
    "(where \"~\" is \"tilde\", pronounced [**til**-d*uh*])\n",
    "to refer to the commit one before `HEAD`."
   ]
  },
  {
   "cell_type": "code",
   "execution_count": null,
   "id": "71567f09",
   "metadata": {},
   "outputs": [],
   "source": [
    "%%bash\n",
    "$ git diff HEAD~1 mars.txt"
   ]
  },
  {
   "cell_type": "markdown",
   "id": "337d1dda",
   "metadata": {},
   "source": [
    "```\n",
    "```\n",
    "\n",
    "{: .language-bash}\n",
    "If we want to see the differences between older commits we can use `git diff`\n",
    "again, but with the notation `HEAD~1`, `HEAD~2`, and so on, to refer to them:"
   ]
  },
  {
   "cell_type": "code",
   "execution_count": null,
   "id": "981e5bc6",
   "metadata": {},
   "outputs": [],
   "source": [
    "%%bash\n",
    "$ git diff HEAD~3 mars.txt"
   ]
  },
  {
   "cell_type": "markdown",
   "id": "007c450d",
   "metadata": {},
   "source": [
    "{: .language-bash}\n",
    "\n",
    "```\n",
    "diff --git a/mars.txt b/mars.txt\n",
    "index df0654a..b36abfd 100644\n",
    "--- a/mars.txt\n",
    "+++ b/mars.txt\n",
    "@@ -1 +1,4 @@\n",
    "Cold and dry, but everything is my favorite color\n",
    "+The two moons may be a problem for Wolfman\n",
    "+But the Mummy will appreciate the lack of humidity\n",
    "+An ill-considered change\n",
    "```\n",
    "\n",
    "{: .output}\n",
    "We could also use `git show` which shows us what changes we made at an older commit as\n",
    "well as the commit message, rather than the _differences_ between a commit and our\n",
    "working directory that we see by using `git diff`."
   ]
  },
  {
   "cell_type": "code",
   "execution_count": null,
   "id": "b4cb1ca8",
   "metadata": {},
   "outputs": [],
   "source": [
    "%%bash\n",
    "$ git show HEAD~3 mars.txt"
   ]
  },
  {
   "cell_type": "markdown",
   "id": "1602921e",
   "metadata": {},
   "source": [
    "{: .language-bash}\n",
    "\n",
    "```\n",
    "commit f22b25e3233b4645dabd0d81e651fe074bd8e73b\n",
    "Author: Vlad Dracula <vlad@tran.sylvan.ia>\n",
    "Date:   Thu Aug 22 09:51:46 2013 -0400\n",
    "Start notes on Mars as a base\n",
    "diff --git a/mars.txt b/mars.txt\n",
    "new file mode 100644\n",
    "index 0000000..df0654a\n",
    "--- /dev/null\n",
    "+++ b/mars.txt\n",
    "@@ -0,0 +1 @@\n",
    "+Cold and dry, but everything is my favorite color\n",
    "```\n",
    "\n",
    "{: .output}\n",
    "In this way,\n",
    "we can build up a chain of commits.\n",
    "The most recent end of the chain is referred to as `HEAD`;\n",
    "we can refer to previous commits using the `~` notation,\n",
    "so `HEAD~1`\n",
    "means \"the previous commit\",\n",
    "while `HEAD~123` goes back 123 commits from where we are now.\n",
    "We can also refer to commits using\n",
    "those long strings of digits and letters\n",
    "that `git log` displays.\n",
    "These are unique IDs for the changes,\n",
    "and \"unique\" really does mean unique:\n",
    "every change to any set of files on any computer\n",
    "has a unique 40-character identifier.\n",
    "Our first commit was given the ID\n",
    "`f22b25e3233b4645dabd0d81e651fe074bd8e73b`,\n",
    "so let's try this:"
   ]
  },
  {
   "cell_type": "code",
   "execution_count": null,
   "id": "1297c2bf",
   "metadata": {},
   "outputs": [],
   "source": [
    "%%bash\n",
    "$ git diff f22b25e3233b4645dabd0d81e651fe074bd8e73b mars.txt"
   ]
  },
  {
   "cell_type": "markdown",
   "id": "ec8679f8",
   "metadata": {},
   "source": [
    "{: .language-bash}\n",
    "\n",
    "```\n",
    "diff --git a/mars.txt b/mars.txt\n",
    "index df0654a..93a3e13 100644\n",
    "--- a/mars.txt\n",
    "+++ b/mars.txt\n",
    "@@ -1 +1,4 @@\n",
    "Cold and dry, but everything is my favorite color\n",
    "+The two moons may be a problem for Wolfman\n",
    "+But the Mummy will appreciate the lack of humidity\n",
    "+An ill-considered change\n",
    "```\n",
    "\n",
    "{: .output}\n",
    "That's the right answer,\n",
    "but typing out random 40-character strings is annoying,\n",
    "so Git lets us use just the first few characters (typically seven for normal size projects):"
   ]
  },
  {
   "cell_type": "code",
   "execution_count": null,
   "id": "6bc88d81",
   "metadata": {},
   "outputs": [],
   "source": [
    "%%bash\n",
    "$ git diff f22b25e mars.txt"
   ]
  },
  {
   "cell_type": "markdown",
   "id": "34043bdf",
   "metadata": {},
   "source": [
    "{: .language-bash}\n",
    "\n",
    "```\n",
    "diff --git a/mars.txt b/mars.txt\n",
    "index df0654a..93a3e13 100644\n",
    "--- a/mars.txt\n",
    "+++ b/mars.txt\n",
    "@@ -1 +1,4 @@\n",
    "Cold and dry, but everything is my favorite color\n",
    "+The two moons may be a problem for Wolfman\n",
    "+But the Mummy will appreciate the lack of humidity\n",
    "+An ill-considered change\n",
    "```\n",
    "\n",
    "{: .output}\n",
    "All right! So\n",
    "we can save changes to files and see what we've changed. Now, how\n",
    "can we restore older versions of things?\n",
    "Let's suppose we change our mind about the last update to\n",
    "`mars.txt` (the \"ill-considered change\").\n",
    "`git status` now tells us that the file has been changed,\n",
    "but those changes haven't been staged:"
   ]
  },
  {
   "cell_type": "code",
   "execution_count": null,
   "id": "2ff1079c",
   "metadata": {},
   "outputs": [],
   "source": [
    "%%bash\n",
    "$ git status"
   ]
  },
  {
   "cell_type": "markdown",
   "id": "d3f6b2d2",
   "metadata": {},
   "source": [
    "{: .language-bash}\n",
    "\n",
    "```\n",
    "On branch main\n",
    "Changes not staged for commit:\n",
    "(use \"git add <file>...\" to update what will be committed)\n",
    "(use \"git checkout -- <file>...\" to discard changes in working directory)\n",
    "modified:   mars.txt\n",
    "no changes added to commit (use \"git add\" and/or \"git commit -a\")\n",
    "```\n",
    "\n",
    "{: .output}\n",
    "We can put things back the way they were\n",
    "by using `git checkout`:"
   ]
  },
  {
   "cell_type": "code",
   "execution_count": null,
   "id": "d863e683",
   "metadata": {},
   "outputs": [],
   "source": [
    "%%bash\n",
    "$ git checkout HEAD mars.txt\n",
    "$ cat mars.txt"
   ]
  },
  {
   "cell_type": "markdown",
   "id": "fe172cb6",
   "metadata": {},
   "source": [
    "{: .language-bash}\n",
    "\n",
    "```\n",
    "Cold and dry, but everything is my favorite color\n",
    "The two moons may be a problem for Wolfman\n",
    "But the Mummy will appreciate the lack of humidity\n",
    "```\n",
    "\n",
    "{: .output}\n",
    "As you might guess from its name,\n",
    "`git checkout` checks out (i.e., restores) an old version of a file.\n",
    "In this case,\n",
    "we're telling Git that we want to recover the version of the file recorded in `HEAD`,\n",
    "which is the last saved commit.\n",
    "If we want to go back even further,\n",
    "we can use a commit identifier instead:"
   ]
  },
  {
   "cell_type": "code",
   "execution_count": null,
   "id": "4a79ae92",
   "metadata": {},
   "outputs": [],
   "source": [
    "%%bash\n",
    "$ git checkout f22b25e mars.txt"
   ]
  },
  {
   "cell_type": "markdown",
   "id": "5d604caf",
   "metadata": {},
   "source": [
    "{: .language-bash}"
   ]
  },
  {
   "cell_type": "code",
   "execution_count": null,
   "id": "268e3824",
   "metadata": {},
   "outputs": [],
   "source": [
    "%%bash\n",
    "$ cat mars.txt"
   ]
  },
  {
   "cell_type": "markdown",
   "id": "42ed9126",
   "metadata": {},
   "source": [
    "{: .language-bash}\n",
    "\n",
    "```\n",
    "Cold and dry, but everything is my favorite color\n",
    "```\n",
    "\n",
    "{: .output}"
   ]
  },
  {
   "cell_type": "code",
   "execution_count": null,
   "id": "00781440",
   "metadata": {},
   "outputs": [],
   "source": [
    "%%bash\n",
    "$ git status"
   ]
  },
  {
   "cell_type": "markdown",
   "id": "bb1f5ff8",
   "metadata": {},
   "source": [
    "{: .language-bash}\n",
    "\n",
    "```\n",
    "On branch main\n",
    "Changes to be committed:\n",
    "(use \"git reset HEAD <file>...\" to unstage)\n",
    "modified:   mars.txt\n",
    "```\n",
    "\n",
    "{: .output}\n",
    "Notice that the changes are currently in the staging area.\n",
    "Again, we can put things back the way they were\n",
    "by using `git checkout`:"
   ]
  },
  {
   "cell_type": "code",
   "execution_count": null,
   "id": "5ddd746a",
   "metadata": {},
   "outputs": [],
   "source": [
    "%%bash\n",
    "$ git checkout HEAD mars.txt"
   ]
  },
  {
   "cell_type": "markdown",
   "id": "2fe34510",
   "metadata": {},
   "source": [
    "```\n",
    "```\n",
    "\n",
    "{: .language-bash}\n",
    "> ## Don't Lose Your HEAD\n",
    ">\n",
    "> Above we used\n",
    ">"
   ]
  },
  {
   "cell_type": "code",
   "execution_count": null,
   "id": "d8f0506d",
   "metadata": {},
   "outputs": [],
   "source": [
    "%%bash\n",
    "> $ git checkout f22b25e mars.txt"
   ]
  },
  {
   "cell_type": "markdown",
   "id": "a4a9b238",
   "metadata": {},
   "source": [
    "```\n",
    "```\n",
    "\n",
    "> {: .language-bash}\n",
    ">\n",
    "> to revert `mars.txt` to its state after the commit `f22b25e`. But be careful!\n",
    "> The command `checkout` has other important functionalities and Git will misunderstand\n",
    "> your intentions if you are not accurate with the typing. For example,\n",
    "> if you forget `mars.txt` in the previous command.\n",
    ">"
   ]
  },
  {
   "cell_type": "code",
   "execution_count": null,
   "id": "24b67e39",
   "metadata": {},
   "outputs": [],
   "source": [
    "%%bash\n",
    "> $ git checkout f22b25e"
   ]
  },
  {
   "cell_type": "markdown",
   "id": "d3538329",
   "metadata": {},
   "source": [
    "> {: .language-bash}\n",
    "\n",
    "```\n",
    "> Note: checking out 'f22b25e'.\n",
    ">\n",
    "> You are in 'detached HEAD' state. You can look around, make experimental\n",
    "> changes and commit them, and you can discard any commits you make in this\n",
    "> state without impacting any branches by performing another checkout.\n",
    ">\n",
    "> If you want to create a new branch to retain commits you create, you may\n",
    "> do so (now or later) by using -b with the checkout command again. Example:\n",
    ">\n",
    ">  git checkout -b <new-branch-name>\n",
    ">\n",
    "> HEAD is now at f22b25e Start notes on Mars as a base\n",
    "```\n",
    "\n",
    "> {: .error}\n",
    ">\n",
    "> The \"detached HEAD\" is like \"look, but don't touch\" here,\n",
    "> so you shouldn't make any changes in this state.\n",
    "> After investigating your repo's past state, reattach your `HEAD` with `git checkout main`.\n",
    "{: .callout}\n",
    "It's important to remember that\n",
    "we must use the commit number that identifies the state of the repository\n",
    "*before* the change we're trying to undo.\n",
    "A common mistake is to use the number of\n",
    "the commit in which we made the change we're trying to discard.\n",
    "In the example below, we want to retrieve the state from before the most\n",
    "recent commit (`HEAD~1`), which is commit `f22b25e`:\n",
    "![Git Checkout](../fig/git-checkout.svg)\n",
    "So, to put it all together,\n",
    "here's how Git works in cartoon form:\n",
    "![https://figshare.com/articles/How_Git_works_a_cartoon/1328266](../fig/git_staging.svg)\n",
    "> ## Simplifying the Common Case\n",
    ">\n",
    "> If you read the output of `git status` carefully,\n",
    "> you'll see that it includes this hint:\n",
    ">"
   ]
  },
  {
   "cell_type": "code",
   "execution_count": null,
   "id": "ecd2c340",
   "metadata": {},
   "outputs": [],
   "source": [
    "%%bash\n",
    "> (use \"git checkout -- <file>...\" to discard changes in working directory)"
   ]
  },
  {
   "cell_type": "markdown",
   "id": "ac447a20",
   "metadata": {},
   "source": [
    "```\n",
    "```\n",
    "\n",
    "> {: .language-bash}\n",
    ">\n",
    "> As it says,\n",
    "> `git checkout` without a version identifier restores files to the state saved in `HEAD`.\n",
    "> The double dash `--` is needed to separate the names of the files being recovered\n",
    "> from the command itself:\n",
    "> without it,\n",
    "> Git would try to use the name of the file as the commit identifier.\n",
    "{: .callout}\n",
    "The fact that files can be reverted one by one\n",
    "tends to change the way people organize their work.\n",
    "If everything is in one large document,\n",
    "it's hard (but not impossible) to undo changes to the introduction\n",
    "without also undoing changes made later to the conclusion.\n",
    "If the introduction and conclusion are stored in separate files,\n",
    "on the other hand,\n",
    "moving backward and forward in time becomes much easier.\n",
    "> ## Recovering Older Versions of a File\n",
    ">\n",
    "> Jennifer has made changes to the Python script that she has been working on for weeks, and the\n",
    "> modifications she made this morning \"broke\" the script and it no longer runs. She has spent\n",
    "> ~ 1hr trying to fix it, with no luck...\n",
    ">\n",
    "> Luckily, she has been keeping track of her project's versions using Git! Which commands below will\n",
    "> let her recover the last committed version of her Python script called\n",
    "> `data_cruncher.py`?\n",
    ">\n",
    "> 1. `$ git checkout HEAD`\n",
    ">\n",
    "> 2. `$ git checkout HEAD data_cruncher.py`\n",
    ">\n",
    "> 3. `$ git checkout HEAD~1 data_cruncher.py`\n",
    ">\n",
    "> 4. `$ git checkout <unique ID of last commit> data_cruncher.py`\n",
    ">\n",
    "> 5. Both 2 and 4\n",
    ">\n",
    ">\n",
    "> > ## Solution\n",
    "> >\n",
    "> > The answer is (5)-Both 2 and 4.\n",
    "> >\n",
    "> > The `checkout` command restores files from the repository, overwriting the files in your working\n",
    "> > directory. Answers 2 and 4 both restore the *latest* version *in the repository* of the file\n",
    "> > `data_cruncher.py`. Answer 2 uses `HEAD` to indicate the *latest*, whereas answer 4 uses the\n",
    "> > unique ID of the last commit, which is what `HEAD` means.\n",
    "> >\n",
    "> > Answer 3 gets the version of `data_cruncher.py` from the commit *before* `HEAD`, which is NOT\n",
    "> > what we wanted.\n",
    "> >\n",
    "> > Answer 1 can be dangerous! Without a filename, `git checkout` will restore **all files**\n",
    "> > in the current directory (and all directories below it) to their state at the commit specified.\n",
    "> > This command will restore `data_cruncher.py` to the latest commit version, but it will also\n",
    "> > restore *any other files that are changed* to that version, erasing any changes you may\n",
    "> > have made to those files!\n",
    "> > As discussed above, you are left in a *detached* `HEAD` state, and you don't want to be there.\n",
    "> {: .solution}\n",
    "{: .challenge}\n",
    "> ## Reverting a Commit\n",
    ">\n",
    "> Jennifer is collaborating with colleagues on her Python script.  She\n",
    "> realizes her last commit to the project's repository contained an error, and\n",
    "> wants to undo it.  Jennifer wants to undo correctly so everyone in the project's\n",
    "> repository gets the correct change. The command `git revert [erroneous commit ID]` will create a\n",
    "> new commit that reverses the erroneous commit.\n",
    ">\n",
    "> The command `git revert` is\n",
    "> different from `git checkout [commit ID]` because `git checkout` returns the\n",
    "> files not yet committed within the local repository to a previous state, whereas `git revert`\n",
    "> reverses changes committed to the local and project repositories.\n",
    ">\n",
    "> Below are the right steps and explanations for Jennifer to use `git revert`,\n",
    "> what is the missing command?\n",
    "> 1. `________ # Look at the git history of the project to find the commit ID`\n",
    ">\n",
    "> 2. Copy the ID (the first few characters of the ID, e.g. 0b1d055).\n",
    ">\n",
    "> 3. `git revert [commit ID]`\n",
    ">\n",
    "> 4. Type in the new commit message.\n",
    ">\n",
    "> 5. Save and close\n",
    ">\n",
    ">\n",
    "> > ## Solution\n",
    "> >\n",
    "> > The command `git log` lists project history with commit IDs.\n",
    "> >\n",
    "> > The command `git show HEAD` shows changes made at the latest commit, and lists\n",
    "> > the commit ID; however, Jennifer should double-check it is the correct commit, and no one\n",
    "> > else has committed changes to the repository.\n",
    "> {: .solution}\n",
    "{: .challenge}\n",
    "> ## Understanding Workflow and History\n",
    ">\n",
    "> What is the output of the last command in\n",
    ">"
   ]
  },
  {
   "cell_type": "code",
   "execution_count": null,
   "id": "62f78029",
   "metadata": {},
   "outputs": [],
   "source": [
    "%%bash\n",
    "> $ cd planets\n",
    "> $ echo \"Venus is beautiful and full of love\" > venus.txt\n",
    "> $ git add venus.txt\n",
    "> $ echo \"Venus is too hot to be suitable as a base\" >> venus.txt\n",
    "> $ git commit -m \"Comment on Venus as an unsuitable base\"\n",
    "> $ git checkout HEAD venus.txt\n",
    "> $ cat venus.txt #this will print the contents of venus.txt to the screen"
   ]
  },
  {
   "cell_type": "markdown",
   "id": "06f67d67",
   "metadata": {},
   "source": [
    "```\n",
    "```\n",
    "\n",
    "> {: .language-bash}\n",
    ">\n",
    "\n",
    "```\n",
    ">    Venus is too hot to be suitable as a base\n",
    "```\n",
    "\n",
    ">    {: .output}\n",
    "\n",
    "```\n",
    ">    Venus is beautiful and full of love\n",
    "```\n",
    "\n",
    ">    {: .output}\n",
    "\n",
    "```\n",
    ">    Venus is beautiful and full of love\n",
    ">    Venus is too hot to be suitable as a base\n",
    "```\n",
    "\n",
    ">    {: .output}\n",
    "\n",
    "```\n",
    ">    Error because you have changed venus.txt without committing the changes\n",
    "```\n",
    "\n",
    ">    {: .output}\n",
    ">\n",
    "> > ## Solution\n",
    "> >\n",
    "> > The answer is 2.\n",
    "> >\n",
    "> > The command `git add venus.txt` places the current version of `venus.txt` into the staging area.\n",
    "> > The changes to the file from the second `echo` command are only applied to the working copy,\n",
    "> > not the version in the staging area.\n",
    "> >\n",
    "> > So, when `git commit -m \"Comment on Venus as an unsuitable base\"` is executed,\n",
    "> > the version of `venus.txt` committed to the repository is the one from the staging area and\n",
    "> > has only one line.\n",
    "> >\n",
    "> >  At this time, the working copy still has the second line (and\n",
    "> >  `git status` will show that the file is modified). However, `git checkout HEAD venus.txt`\n",
    "> >  replaces the working copy with the most recently committed version of `venus.txt`.\n",
    "> >\n",
    "> >  So, `cat venus.txt` will output\n",
    "\n",
    "```\n",
    "> >  Venus is beautiful and full of love.\n",
    "```\n",
    "\n",
    "> > {: .output}\n",
    "> {: .solution}\n",
    "{: .challenge}\n",
    "> ## Checking Understanding of `git diff`\n",
    ">\n",
    "> Consider this command: `git diff HEAD~9 mars.txt`. What do you predict this command\n",
    "> will do if you execute it? What happens when you do execute it? Why?\n",
    ">\n",
    "> Try another command, `git diff [ID] mars.txt`, where [ID] is replaced with\n",
    "> the unique identifier for your most recent commit. What do you think will happen,\n",
    "> and what does happen?\n",
    "{: .challenge}\n",
    "> ## Getting Rid of Staged Changes\n",
    ">\n",
    "> `git checkout` can be used to restore a previous commit when unstaged changes have\n",
    "> been made, but will it also work for changes that have been staged but not committed?\n",
    "> Make a change to `mars.txt`, add that change, and use `git checkout` to see if\n",
    "> you can remove your change.\n",
    "{: .challenge}\n",
    "> ## Explore and Summarize Histories\n",
    ">\n",
    "> Exploring history is an important part of Git, and often it is a challenge to find\n",
    "> the right commit ID, especially if the commit is from several months ago.\n",
    ">\n",
    "> Imagine the `planets` project has more than 50 files.\n",
    "> You would like to find a commit that modifies some specific text in `mars.txt`.\n",
    "> When you type `git log`, a very long list appeared.\n",
    "> How can you narrow down the search?\n",
    ">\n",
    "> Recall that the `git diff` command allows us to explore one specific file,\n",
    "> e.g., `git diff mars.txt`. We can apply a similar idea here.\n",
    ">"
   ]
  },
  {
   "cell_type": "code",
   "execution_count": null,
   "id": "49532e70",
   "metadata": {},
   "outputs": [],
   "source": [
    "%%bash\n",
    "> $ git log mars.txt"
   ]
  },
  {
   "cell_type": "markdown",
   "id": "77d489fd",
   "metadata": {},
   "source": [
    "```\n",
    "```\n",
    "\n",
    "> {: .language-bash}\n",
    ">\n",
    "> Unfortunately some of these commit messages are very ambiguous, e.g., `update files`.\n",
    "> How can you search through these files?\n",
    ">\n",
    "> Both `git diff` and `git log` are very useful and they summarize a different part of the history\n",
    "> for you.\n",
    "> Is it possible to combine both? Let's try the following:\n",
    ">"
   ]
  },
  {
   "cell_type": "code",
   "execution_count": null,
   "id": "010023f8",
   "metadata": {},
   "outputs": [],
   "source": [
    "%%bash\n",
    "> $ git log --patch mars.txt"
   ]
  },
  {
   "cell_type": "markdown",
   "id": "d6771592",
   "metadata": {},
   "source": [
    "```\n",
    "```\n",
    "\n",
    "> {: .language-bash}\n",
    ">\n",
    "> You should get a long list of output, and you should be able to see both commit messages and\n",
    "> the difference between each commit.\n",
    ">\n",
    "> Question: What does the following command do?\n",
    ">"
   ]
  },
  {
   "cell_type": "code",
   "execution_count": null,
   "id": "6372d21f",
   "metadata": {
    "lines_to_next_cell": 0
   },
   "outputs": [],
   "source": [
    "%%bash\n",
    "> $ git log --patch HEAD~9 *.txt"
   ]
  },
  {
   "cell_type": "markdown",
   "id": "51a2ee3f",
   "metadata": {},
   "source": []
  }
 ],
 "metadata": {
  "jupytext": {
   "formats": "ipynb,md"
  },
  "kernelspec": {
   "display_name": "Python 3 (ipykernel)",
   "language": "python",
   "name": "python3"
  }
 },
 "nbformat": 4,
 "nbformat_minor": 5
}
