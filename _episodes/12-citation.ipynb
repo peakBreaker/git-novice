{
 "cells": [
  {
   "cell_type": "raw",
   "id": "56ad1f50",
   "metadata": {},
   "source": [
    "---\n",
    "\n",
    "---"
   ]
  },
  {
   "cell_type": "markdown",
   "id": "16ecd7ba",
   "metadata": {},
   "source": [
    "\n",
    "```\n",
    "```\n",
    "\n",
    "---\n",
    "title: Citation\n",
    "teaching: 2\n",
    "exercises: 0\n",
    "questions:\n",
    "- \"How can I make my work easier to cite?\"\n",
    "objectives:\n",
    "- \"Make your work easy to cite\"\n",
    "keypoints:\n",
    "- \"Add a CITATION file to a repository to explain how you want your work cited.\"\n",
    "---\n",
    "You may want to include a file called `CITATION` or `CITATION.txt`\n",
    "that describes how to reference your project;\n",
    "the [one for Software\n",
    "Carpentry](https://github.com/swcarpentry/website/blob/gh-pages/CITATION)\n",
    "states:\n",
    "\n",
    "```\n",
    "To reference Software Carpentry in publications, please cite both of the following:\n",
    "Greg Wilson: \"Software Carpentry: Getting Scientists to Write Better\n",
    "Code by Making Them More Productive\".  Computing in Science &\n",
    "Engineering, Nov-Dec 2006.\n",
    "Greg Wilson: \"Software Carpentry: Lessons Learned\". arXiv:1307.5448,\n",
    "July 2013.\n",
    "@article{wilson-software-carpentry-2006,\n",
    "author =  {Greg Wilson},\n",
    "title =   {Software Carpentry: Getting Scientists to Write Better Code by Making Them More Productive},\n",
    "journal = {Computing in Science \\& Engineering},\n",
    "month =   {November--December},\n",
    "year =    {2006},\n",
    "}\n",
    "@online{wilson-software-carpentry-2013,\n",
    "author      = {Greg Wilson},\n",
    "title       = {Software Carpentry: Lessons Learned},\n",
    "version     = {1},\n",
    "date        = {2013-07-20},\n",
    "eprinttype  = {arxiv},\n",
    "eprint      = {1307.5448}\n",
    "}\n",
    "```\n",
    "\n",
    "{: .source}\n",
    "More detailed advice, and other ways to make your code citable can be found\n",
    "[at the Software Sustainability Institute blog](https://www.software.ac.uk/how-cite-and-describe-software) and in:\n"
   ]
  }
 ],
 "metadata": {
  "jupytext": {
   "formats": "ipynb,md"
  },
  "kernelspec": {
   "display_name": "Python 3 (ipykernel)",
   "language": "python",
   "name": "python3"
  }
 },
 "nbformat": 4,
 "nbformat_minor": 5
}
