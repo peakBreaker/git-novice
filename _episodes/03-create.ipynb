{
 "cells": [
  {
   "cell_type": "raw",
   "id": "ee5edbf9",
   "metadata": {},
   "source": [
    "---\n",
    "\n",
    "---"
   ]
  },
  {
   "cell_type": "markdown",
   "id": "b5cc994e",
   "metadata": {},
   "source": [
    "\n",
    "```\n",
    "```\n",
    "\n",
    "---\n",
    "title: Creating a Repository\n",
    "teaching: 10\n",
    "exercises: 0\n",
    "questions:\n",
    "- \"Where does Git store information?\"\n",
    "objectives:\n",
    "- \"Create a local Git repository.\"\n",
    "- \"Describe the purpose of the `.git` directory.\"\n",
    "keypoints:\n",
    "- \"`git init` initializes a repository.\"\n",
    "- \"Git stores all of its repository data in the `.git` directory.\"\n",
    "---\n",
    "Once Git is configured,\n",
    "we can start using it.\n",
    "We will continue with the story of Wolfman and Dracula who are investigating if it\n",
    "is possible to send a planetary lander to Mars.\n",
    "![motivatingexample](../fig/motivatingexample.png)\n",
    "[Werewolf vs dracula](https://www.deviantart.com/b-maze/art/Werewolf-vs-Dracula-124893530)\n",
    "by [b-maze](https://www.deviantart.com/b-maze) / [Deviant Art](https://www.deviantart.com/).\n",
    "[Mars](https://en.wikipedia.org/wiki/File:OSIRIS_Mars_true_color.jpg) by European Space Agency /\n",
    "[CC-BY-SA 3.0 IGO](https://creativecommons.org/licenses/by/3.0/deed.en).\n",
    "[Pluto](https://commons.wikimedia.org/wiki/File:PIA19873-Pluto-NewHorizons-FlyingPastImage-20150714-transparent.png) /\n",
    "Courtesy NASA/JPL-Caltech.\n",
    "[Mummy](https://commons.wikimedia.org/wiki/File:Mummy_icon_-_Noun_Project_4070.svg)\n",
    "&copy; Gilad Fried / [The Noun Project](https://thenounproject.com/) /\n",
    "[CC BY 3.0](https://creativecommons.org/licenses/by/3.0/deed.en).\n",
    "[Moon](https://commons.wikimedia.org/wiki/File:Lune_ico.png)\n",
    "&copy; Luc Viatour / [https://lucnix.be](https://lucnix.be/) /\n",
    "[CC BY-SA 3.0](https://creativecommons.org/licenses/by-sa/3.0/deed.en).\n",
    "First, let's create a directory in `Desktop` folder for our work and then move into that directory:"
   ]
  },
  {
   "cell_type": "code",
   "execution_count": null,
   "id": "cd50ee15",
   "metadata": {},
   "outputs": [],
   "source": [
    "%%bash\n",
    "$ cd ~/Desktop\n",
    "$ mkdir planets\n",
    "$ cd planets"
   ]
  },
  {
   "cell_type": "markdown",
   "id": "c9502a8d",
   "metadata": {},
   "source": [
    "```\n",
    "```\n",
    "\n",
    "{: .language-bash}\n",
    "Then we tell Git to make `planets` a [repository]({{ page.root }}{% link reference.md %}#repository)\n",
    "-- a place where Git can store versions of our files:"
   ]
  },
  {
   "cell_type": "code",
   "execution_count": null,
   "id": "b0a9966a",
   "metadata": {},
   "outputs": [],
   "source": [
    "%%bash\n",
    "$ git init"
   ]
  },
  {
   "cell_type": "markdown",
   "id": "e93dda9e",
   "metadata": {},
   "source": [
    "```\n",
    "```\n",
    "\n",
    "{: .language-bash}\n",
    "It is important to note that `git init` will create a repository that\n",
    "includes subdirectories and their files---there is no need to create\n",
    "separate repositories nested within the `planets` repository, whether\n",
    "subdirectories are present from the beginning or added later. Also, note\n",
    "that the creation of the `planets` directory and its initialization as a\n",
    "repository are completely separate processes.\n",
    "If we use `ls` to show the directory's contents,\n",
    "it appears that nothing has changed:"
   ]
  },
  {
   "cell_type": "code",
   "execution_count": null,
   "id": "03426cea",
   "metadata": {},
   "outputs": [],
   "source": [
    "%%bash\n",
    "$ ls"
   ]
  },
  {
   "cell_type": "markdown",
   "id": "0d59f27d",
   "metadata": {},
   "source": [
    "```\n",
    "```\n",
    "\n",
    "{: .language-bash}\n",
    "But if we add the `-a` flag to show everything,\n",
    "we can see that Git has created a hidden directory within `planets` called `.git`:"
   ]
  },
  {
   "cell_type": "code",
   "execution_count": null,
   "id": "97e2ca26",
   "metadata": {},
   "outputs": [],
   "source": [
    "%%bash\n",
    "$ ls -a"
   ]
  },
  {
   "cell_type": "markdown",
   "id": "0669b98b",
   "metadata": {},
   "source": [
    "{: .language-bash}\n",
    "\n",
    "```\n",
    ".\t..\t.git\n",
    "```\n",
    "\n",
    "{: .output}\n",
    "Git uses this special subdirectory to store all the information about the project,\n",
    "including all files and sub-directories located within the project's directory.\n",
    "If we ever delete the `.git` subdirectory,\n",
    "we will lose the project's history.\n",
    "Next, we will change the default branch to be called `main`.\n",
    "This might be the default branch depending on your settings and version\n",
    "of git.\n",
    "See the [setup episode](02-setup.md) for more information on this change."
   ]
  },
  {
   "cell_type": "code",
   "execution_count": null,
   "id": "f63afd8e",
   "metadata": {},
   "outputs": [],
   "source": [
    "%%bash\n",
    "git checkout -b main"
   ]
  },
  {
   "cell_type": "markdown",
   "id": "3b69ed6e",
   "metadata": {},
   "source": [
    "{: .language-bash}\n",
    "\n",
    "```\n",
    "Switched to a new branch 'main'\n",
    "```\n",
    "\n",
    "{: .output}\n",
    "We can check that everything is set up correctly\n",
    "by asking Git to tell us the status of our project:"
   ]
  },
  {
   "cell_type": "code",
   "execution_count": null,
   "id": "e9af130f",
   "metadata": {},
   "outputs": [],
   "source": [
    "%%bash\n",
    "$ git status"
   ]
  },
  {
   "cell_type": "markdown",
   "id": "dd4303ca",
   "metadata": {},
   "source": [
    "{: .language-bash}\n",
    "\n",
    "```\n",
    "On branch main\n",
    "No commits yet\n",
    "nothing to commit (create/copy files and use \"git add\" to track)\n",
    "```\n",
    "\n",
    "{: .output}\n",
    "If you are using a different version of `git`, the exact\n",
    "wording of the output might be slightly different.\n",
    "> ## Places to Create Git Repositories\n",
    ">\n",
    "> Along with tracking information about planets (the project we have already created),\n",
    "> Dracula would also like to track information about moons.\n",
    "> Despite Wolfman's concerns, Dracula creates a `moons` project inside his `planets`\n",
    "> project with the following sequence of commands:\n",
    ">"
   ]
  },
  {
   "cell_type": "code",
   "execution_count": null,
   "id": "b7d2852c",
   "metadata": {},
   "outputs": [],
   "source": [
    "%%bash\n",
    "> $ cd ~/Desktop   # return to Desktop directory\n",
    "> $ cd planets     # go into planets directory, which is already a Git repository\n",
    "> $ ls -a          # ensure the .git subdirectory is still present in the planets directory\n",
    "> $ mkdir moons    # make a subdirectory planets/moons\n",
    "> $ cd moons       # go into moons subdirectory\n",
    "> $ git init       # make the moons subdirectory a Git repository\n",
    "> $ ls -a          # ensure the .git subdirectory is present indicating we have created a new Git repository"
   ]
  },
  {
   "cell_type": "markdown",
   "id": "0af351f3",
   "metadata": {},
   "source": [
    "```\n",
    "```\n",
    "\n",
    "> {: .language-bash}\n",
    ">\n",
    "> Is the `git init` command, run inside the `moons` subdirectory, required for\n",
    "> tracking files stored in the `moons` subdirectory?\n",
    ">\n",
    "> > ## Solution\n",
    "> >\n",
    "> > No. Dracula does not need to make the `moons` subdirectory a Git repository\n",
    "> > because the `planets` repository will track all files, sub-directories, and\n",
    "> > subdirectory files under the `planets` directory.  Thus, in order to track\n",
    "> > all information about moons, Dracula only needed to add the `moons` subdirectory\n",
    "> > to the `planets` directory.\n",
    "> >\n",
    "> > Additionally, Git repositories can interfere with each other if they are \"nested\":\n",
    "> > the outer repository will try to version-control\n",
    "> > the inner repository. Therefore, it's best to create each new Git\n",
    "> > repository in a separate directory. To be sure that there is no conflicting\n",
    "> > repository in the directory, check the output of `git status`. If it looks\n",
    "> > like the following, you are good to go to create a new repository as shown\n",
    "> > above:\n",
    "> >"
   ]
  },
  {
   "cell_type": "code",
   "execution_count": null,
   "id": "e75582d5",
   "metadata": {},
   "outputs": [],
   "source": [
    "%%bash\n",
    "> > $ git status"
   ]
  },
  {
   "cell_type": "markdown",
   "id": "8c9464ca",
   "metadata": {},
   "source": [
    "> > {: .language-bash}\n",
    "\n",
    "```\n",
    "> > fatal: Not a git repository (or any of the parent directories): .git\n",
    "```\n",
    "\n",
    "> > {: .output}\n",
    "> {: .solution}\n",
    "{: .challenge}\n",
    "> ## Correcting `git init` Mistakes\n",
    "> Wolfman explains to Dracula how a nested repository is redundant and may cause confusion\n",
    "> down the road. Dracula would like to remove the nested repository. How can Dracula undo\n",
    "> his last `git init` in the `moons` subdirectory?\n",
    ">\n",
    "> > ## Solution -- USE WITH CAUTION!\n",
    "> >\n",
    "> > ### Background\n",
    "> > Removing files from a Git repository needs to be done with caution. But we have not learned\n",
    "> > yet how to tell Git to track a particular file; we will learn this in the next episode. Files\n",
    "> > that are not tracked by Git can easily be removed like any other \"ordinary\" files with"
   ]
  },
  {
   "cell_type": "code",
   "execution_count": null,
   "id": "6b00afd6",
   "metadata": {},
   "outputs": [],
   "source": [
    "%%bash\n",
    "> > $ rm filename"
   ]
  },
  {
   "cell_type": "markdown",
   "id": "4b034c2b",
   "metadata": {},
   "source": [
    "```\n",
    "```\n",
    "\n",
    "> > {: .language-bash}\n",
    "> >\n",
    "> > Similarly a directory can be removed using `rm -r dirname` or `rm -rf dirname`.\n",
    "> > If the files or folder being removed in this fashion are tracked by Git, then their removal\n",
    "> > becomes another change that we will need to track, as we will see in the next episode.\n",
    "> >\n",
    "> > ### Solution\n",
    "> > Git keeps all of its files in the `.git` directory.\n",
    "> > To recover from this little mistake, Dracula can just remove the `.git`\n",
    "> > folder in the moons subdirectory by running the following command from inside the `planets` directory:\n",
    "> >"
   ]
  },
  {
   "cell_type": "code",
   "execution_count": null,
   "id": "917ca03d",
   "metadata": {
    "lines_to_next_cell": 0
   },
   "outputs": [],
   "source": [
    "%%bash\n",
    "> > $ rm -rf moons/.git"
   ]
  },
  {
   "cell_type": "markdown",
   "id": "6909f091",
   "metadata": {},
   "source": []
  }
 ],
 "metadata": {
  "jupytext": {
   "formats": "ipynb,md"
  },
  "kernelspec": {
   "display_name": "Python 3 (ipykernel)",
   "language": "python",
   "name": "python3"
  }
 },
 "nbformat": 4,
 "nbformat_minor": 5
}
