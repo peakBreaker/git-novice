{
 "cells": [
  {
   "cell_type": "raw",
   "id": "f2dceef4",
   "metadata": {},
   "source": [
    "---\n",
    "\n",
    "---"
   ]
  },
  {
   "cell_type": "markdown",
   "id": "6a6a9a5b",
   "metadata": {},
   "source": [
    "\n",
    "```\n",
    "```\n",
    "\n",
    "---\n",
    "title: Ignoring Things\n",
    "teaching: 5\n",
    "exercises: 0\n",
    "questions:\n",
    "- \"How can I tell Git to ignore files I don't want to track?\"\n",
    "objectives:\n",
    "- \"Configure Git to ignore specific files.\"\n",
    "- \"Explain why ignoring files can be useful.\"\n",
    "keypoints:\n",
    "- \"The `.gitignore` file tells Git what files to ignore.\"\n",
    "---\n",
    "What if we have files that we do not want Git to track for us,\n",
    "like backup files created by our editor\n",
    "or intermediate files created during data analysis?\n",
    "Let's create a few dummy files:"
   ]
  },
  {
   "cell_type": "code",
   "execution_count": null,
   "id": "86efbe23",
   "metadata": {},
   "outputs": [],
   "source": [
    "%%bash\n",
    "$ mkdir results\n",
    "$ touch a.dat b.dat c.dat results/a.out results/b.out"
   ]
  },
  {
   "cell_type": "markdown",
   "id": "323cdef5",
   "metadata": {},
   "source": [
    "```\n",
    "```\n",
    "\n",
    "{: .language-bash}\n",
    "and see what Git says:"
   ]
  },
  {
   "cell_type": "code",
   "execution_count": null,
   "id": "6223fe6a",
   "metadata": {},
   "outputs": [],
   "source": [
    "%%bash\n",
    "$ git status"
   ]
  },
  {
   "cell_type": "markdown",
   "id": "a774d334",
   "metadata": {},
   "source": [
    "{: .language-bash}\n",
    "\n",
    "```\n",
    "On branch main\n",
    "Untracked files:\n",
    "(use \"git add <file>...\" to include in what will be committed)\n",
    "a.dat\n",
    "b.dat\n",
    "c.dat\n",
    "results/\n",
    "nothing added to commit but untracked files present (use \"git add\" to track)\n",
    "```\n",
    "\n",
    "{: .output}\n",
    "Putting these files under version control would be a waste of disk space.\n",
    "What's worse,\n",
    "having them all listed could distract us from changes that actually matter,\n",
    "so let's tell Git to ignore them.\n",
    "We do this by creating a file in the root directory of our project called `.gitignore`:"
   ]
  },
  {
   "cell_type": "code",
   "execution_count": null,
   "id": "9c9b5be3",
   "metadata": {},
   "outputs": [],
   "source": [
    "%%bash\n",
    "$ nano .gitignore\n",
    "$ cat .gitignore"
   ]
  },
  {
   "cell_type": "markdown",
   "id": "3c232e04",
   "metadata": {},
   "source": [
    "{: .language-bash}\n",
    "\n",
    "```\n",
    "*.dat\n",
    "results/\n",
    "```\n",
    "\n",
    "{: .output}\n",
    "These patterns tell Git to ignore any file whose name ends in `.dat`\n",
    "and everything in the `results` directory.\n",
    "(If any of these files were already being tracked,\n",
    "Git would continue to track them.)\n",
    "Once we have created this file,\n",
    "the output of `git status` is much cleaner:"
   ]
  },
  {
   "cell_type": "code",
   "execution_count": null,
   "id": "b7fb4815",
   "metadata": {},
   "outputs": [],
   "source": [
    "%%bash\n",
    "$ git status"
   ]
  },
  {
   "cell_type": "markdown",
   "id": "4b541b64",
   "metadata": {},
   "source": [
    "{: .language-bash}\n",
    "\n",
    "```\n",
    "On branch main\n",
    "Untracked files:\n",
    "(use \"git add <file>...\" to include in what will be committed)\n",
    ".gitignore\n",
    "nothing added to commit but untracked files present (use \"git add\" to track)\n",
    "```\n",
    "\n",
    "{: .output}\n",
    "The only thing Git notices now is the newly-created `.gitignore` file.\n",
    "You might think we wouldn't want to track it,\n",
    "but everyone we're sharing our repository with will probably want to ignore\n",
    "the same things that we're ignoring.\n",
    "Let's add and commit `.gitignore`:"
   ]
  },
  {
   "cell_type": "code",
   "execution_count": null,
   "id": "fb8ed410",
   "metadata": {},
   "outputs": [],
   "source": [
    "%%bash\n",
    "$ git add .gitignore\n",
    "$ git commit -m \"Ignore data files and the results folder.\"\n",
    "$ git status"
   ]
  },
  {
   "cell_type": "markdown",
   "id": "0d3b7127",
   "metadata": {},
   "source": [
    "{: .language-bash}\n",
    "\n",
    "```\n",
    "On branch main\n",
    "nothing to commit, working directory clean\n",
    "```\n",
    "\n",
    "{: .output}\n",
    "As a bonus, using `.gitignore` helps us avoid accidentally adding to the repository files that we don't want to track:"
   ]
  },
  {
   "cell_type": "code",
   "execution_count": null,
   "id": "573ef0a0",
   "metadata": {},
   "outputs": [],
   "source": [
    "%%bash\n",
    "$ git add a.dat"
   ]
  },
  {
   "cell_type": "markdown",
   "id": "46e98eb7",
   "metadata": {},
   "source": [
    "{: .language-bash}\n",
    "\n",
    "```\n",
    "The following paths are ignored by one of your .gitignore files:\n",
    "a.dat\n",
    "Use -f if you really want to add them.\n",
    "```\n",
    "\n",
    "{: .output}\n",
    "If we really want to override our ignore settings,\n",
    "we can use `git add -f` to force Git to add something. For example,\n",
    "`git add -f a.dat`.\n",
    "We can also always see the status of ignored files if we want:"
   ]
  },
  {
   "cell_type": "code",
   "execution_count": null,
   "id": "c4e4cbd5",
   "metadata": {},
   "outputs": [],
   "source": [
    "%%bash\n",
    "$ git status --ignored"
   ]
  },
  {
   "cell_type": "markdown",
   "id": "e0f11a2a",
   "metadata": {},
   "source": [
    "{: .language-bash}\n",
    "\n",
    "```\n",
    "On branch main\n",
    "Ignored files:\n",
    "(use \"git add -f <file>...\" to include in what will be committed)\n",
    "a.dat\n",
    "b.dat\n",
    "c.dat\n",
    "results/\n",
    "nothing to commit, working directory clean\n",
    "```\n",
    "\n",
    "{: .output}\n",
    "> ## Ignoring Nested Files\n",
    ">\n",
    "> Given a directory structure that looks like:\n",
    ">"
   ]
  },
  {
   "cell_type": "code",
   "execution_count": null,
   "id": "da8f80cf",
   "metadata": {},
   "outputs": [],
   "source": [
    "%%bash\n",
    "> results/data\n",
    "> results/plots"
   ]
  },
  {
   "cell_type": "markdown",
   "id": "8f90a52c",
   "metadata": {},
   "source": [
    "```\n",
    "```\n",
    "\n",
    "> {: .language-bash}\n",
    ">\n",
    "> How would you ignore only `results/plots` and not `results/data`?\n",
    ">\n",
    "> > ## Solution\n",
    "> >\n",
    "> > If you only want to ignore the contents of\n",
    "> > `results/plots`, you can change your `.gitignore` to ignore\n",
    "> > only the `/plots/` subfolder by adding the following line to\n",
    "> > your .gitignore:\n",
    "> >\n",
    "\n",
    "```\n",
    "> > results/plots/\n",
    "```\n",
    "\n",
    "> > {: .output}\n",
    "> >\n",
    "> > This line will ensure only the contents of `results/plots` is ignored, and\n",
    "> > not the contents of `results/data`.\n",
    "> >\n",
    "> > As with most programming issues, there\n",
    "> > are a few alternative ways that one may ensure this ignore rule is followed.\n",
    "> > The \"Ignoring Nested Files: Variation\" exercise has a slightly\n",
    "> > different directory structure\n",
    "> > that presents an alternative solution.\n",
    "> > Further, the discussion page has more detail on ignore rules.\n",
    "> {: .solution}\n",
    "{: .challenge}\n",
    "> ## Including Specific Files\n",
    ">\n",
    "> How would you ignore all `.dat` files in your root directory except for\n",
    "> `final.dat`?\n",
    "> Hint: Find out what `!` (the exclamation point operator) does\n",
    ">\n",
    "> > ## Solution\n",
    "> >\n",
    "> > You would add the following two lines to your .gitignore:\n",
    "> >\n",
    "\n",
    "```\n",
    "> > *.dat           # ignore all data files\n",
    "> > !final.dat      # except final.data\n",
    "```\n",
    "\n",
    "> > {: .output}\n",
    "> >\n",
    "> > The exclamation point operator will include a previously excluded entry.\n",
    "> >\n",
    "> > Note also that because you've previously committed `.dat` files in this\n",
    "> > lesson they will not be ignored with this new rule. Only future additions\n",
    "> > of `.dat` files added to the root directory will be ignored.\n",
    "> {: .solution}\n",
    "{: .challenge}\n",
    "> ## Ignoring Nested Files: Variation\n",
    ">\n",
    "> Given a directory structure that looks similar to the earlier Nested Files\n",
    "> exercise, but with a slightly different directory structure:\n",
    ">"
   ]
  },
  {
   "cell_type": "code",
   "execution_count": null,
   "id": "e710987e",
   "metadata": {},
   "outputs": [],
   "source": [
    "%%bash\n",
    "> results/data\n",
    "> results/images\n",
    "> results/plots\n",
    "> results/analysis"
   ]
  },
  {
   "cell_type": "markdown",
   "id": "4d282565",
   "metadata": {},
   "source": [
    "```\n",
    "```\n",
    "\n",
    "> {: .language-bash}\n",
    ">\n",
    "> How would you ignore all of the contents in the results folder, but not `results/data`?\n",
    ">\n",
    "> Hint: think a bit about how you created an exception with the `!` operator\n",
    "> before.\n",
    ">\n",
    "> > ## Solution\n",
    "> >\n",
    "> > If you want to ignore the contents of\n",
    "> > `results/` but not those of `results/data/`, you can change your `.gitignore` to ignore\n",
    "> > the contents of results folder, but create an exception for the contents of the\n",
    "> > `results/data` subfolder. Your .gitignore would look like this:\n",
    "> >\n",
    "\n",
    "```\n",
    "> > results/*               # ignore everything in results folder\n",
    "> > !results/data/          # do not ignore results/data/ contents\n",
    "```\n",
    "\n",
    "> > {: .output}\n",
    "> >\n",
    "> {: .solution}\n",
    "{: .challenge}\n",
    "> ## Ignoring all data Files in a Directory\n",
    ">\n",
    "> Assuming you have an empty .gitignore file, and given a directory structure that looks like:\n",
    ">"
   ]
  },
  {
   "cell_type": "code",
   "execution_count": null,
   "id": "9bb3e8e3",
   "metadata": {},
   "outputs": [],
   "source": [
    "%%bash\n",
    "> results/data/position/gps/a.dat\n",
    "> results/data/position/gps/b.dat\n",
    "> results/data/position/gps/c.dat\n",
    "> results/data/position/gps/info.txt\n",
    "> results/plots"
   ]
  },
  {
   "cell_type": "markdown",
   "id": "b06b2330",
   "metadata": {},
   "source": [
    "```\n",
    "```\n",
    "\n",
    "> {: .language-bash}\n",
    ">\n",
    "> What's the shortest `.gitignore` rule you could write to ignore all `.dat`\n",
    "> files in `result/data/position/gps`? Do not ignore the `info.txt`.\n",
    ">\n",
    "> > ## Solution\n",
    "> >\n",
    "> > Appending `results/data/position/gps/*.dat` will match every file in `results/data/position/gps`\n",
    "> > that ends with `.dat`.\n",
    "> > The file `results/data/position/gps/info.txt` will not be ignored.\n",
    "> {: .solution}\n",
    "{: .challenge}\n",
    "> ## Ignoring all data Files in the repository\n",
    ">\n",
    "> Let us assume you have many `.dat` files in different subdirectories of your repository.\n",
    "> For example, you might have:\n",
    ">"
   ]
  },
  {
   "cell_type": "code",
   "execution_count": null,
   "id": "be98cbaf",
   "metadata": {},
   "outputs": [],
   "source": [
    "%%bash\n",
    "> results/a.dat\n",
    "> data/experiment_1/b.dat\n",
    "> data/experiment_2/c.dat\n",
    "> data/experiment_2/variation_1/d.dat"
   ]
  },
  {
   "cell_type": "markdown",
   "id": "b6029619",
   "metadata": {},
   "source": [
    "```\n",
    "```\n",
    "\n",
    "> {: .language-bash}\n",
    ">\n",
    "> How do you ignore all the `.dat` files, without explicitly listing the names of the corresponding folders?\n",
    ">\n",
    "> > ## Solution\n",
    "> >\n",
    "> > In the `.gitignore` file, write:\n",
    "> >\n",
    "\n",
    "```\n",
    "> > **/*.dat\n",
    "```\n",
    "\n",
    "> > {: .output}\n",
    "> >\n",
    "> > This will ignore all the `.dat` files, regardless of their position in the directory tree.\n",
    "> > You can still include some specific exception with the exclamation point operator.\n",
    "> {: .solution}\n",
    "{: .challenge}\n",
    "> ## The Order of Rules\n",
    ">\n",
    "> Given a `.gitignore` file with the following contents:\n",
    ">"
   ]
  },
  {
   "cell_type": "code",
   "execution_count": null,
   "id": "198dd210",
   "metadata": {
    "lines_to_next_cell": 0
   },
   "outputs": [],
   "source": [
    "%%bash\n",
    "> *.dat\n",
    "> !*.dat"
   ]
  },
  {
   "cell_type": "markdown",
   "id": "bd556413",
   "metadata": {},
   "source": []
  }
 ],
 "metadata": {
  "jupytext": {
   "formats": "ipynb,md"
  },
  "kernelspec": {
   "display_name": "Python 3 (ipykernel)",
   "language": "python",
   "name": "python3"
  }
 },
 "nbformat": 4,
 "nbformat_minor": 5
}
