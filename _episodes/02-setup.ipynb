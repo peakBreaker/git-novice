{
 "cells": [
  {
   "cell_type": "raw",
   "id": "f257332e",
   "metadata": {},
   "source": [
    "---\n",
    "\n",
    "---"
   ]
  },
  {
   "cell_type": "markdown",
   "id": "248bb5a1",
   "metadata": {},
   "source": [
    "\n",
    "```\n",
    "```\n",
    "\n",
    "---\n",
    "title: Setting Up Git\n",
    "teaching: 5\n",
    "exercises: 0\n",
    "questions:\n",
    "- \"How do I get set up to use Git?\"\n",
    "objectives:\n",
    "- \"Configure `git` the first time it is used on a computer.\"\n",
    "- \"Understand the meaning of the `--global` configuration flag.\"\n",
    "keypoints:\n",
    "-   \"Use `git config` with the `--global` option to configure a user name, email address, editor, and other preferences once per machine.\"\n",
    "---\n",
    "When we use Git on a new computer for the first time,\n",
    "we need to configure a few things. Below are a few examples\n",
    "of configurations we will set as we get started with Git:\n",
    "*   our name and email address,\n",
    "*   what our preferred text editor is,\n",
    "*   and that we want to use these settings globally (i.e. for every project).\n",
    "On a command line, Git commands are written as `git verb options`,\n",
    "where `verb` is what we actually want to do and `options` is additional optional information which may be needed for the `verb`. So here is how\n",
    "Dracula sets up his new laptop:"
   ]
  },
  {
   "cell_type": "code",
   "execution_count": null,
   "id": "0b54448d",
   "metadata": {},
   "outputs": [],
   "source": [
    "%%bash\n",
    "$ git config --global user.name \"Vlad Dracula\"\n",
    "$ git config --global user.email \"vlad@tran.sylvan.ia\""
   ]
  },
  {
   "cell_type": "markdown",
   "id": "027cb539",
   "metadata": {},
   "source": [
    "```\n",
    "```\n",
    "\n",
    "{: .language-bash}\n",
    "Please use your own name and email address instead of Dracula's. This user name and email will be associated with your subsequent Git activity,\n",
    "which means that any changes pushed to\n",
    "[GitHub](https://github.com/),\n",
    "[BitBucket](https://bitbucket.org/),\n",
    "[GitLab](https://gitlab.com/) or\n",
    "another Git host server\n",
    "after this lesson will include this information.\n",
    "For this lesson, we will be interacting with [GitHub](https://github.com/) and so the email address used should be the same as the one used when setting up your GitHub account. If you are concerned about privacy, please review [GitHub's instructions for keeping your email address private][git-privacy].\n",
    ">## Keeping your email private\n",
    ">\n",
    ">If you elect to use a private email address with GitHub, then use that same email address for the `user.email` value, e.g. `username@users.noreply.github.com` replacing `username` with your GitHub one.\n",
    "{: .callout}\n",
    "> ## Line Endings\n",
    ">\n",
    "> As with other keys, when you hit <kbd>Return</kbd> on your keyboard,\n",
    "> your computer encodes this input as a character.\n",
    "> Different operating systems use different character(s) to represent the end of a line.\n",
    "> (You may also hear these referred to as newlines or line breaks.)\n",
    "> Because Git uses these characters to compare files,\n",
    "> it may cause unexpected issues when editing a file on different machines.\n",
    "> Though it is beyond the scope of this lesson, you can read more about this issue\n",
    "> [in the Pro Git book](https://www.git-scm.com/book/en/v2/Customizing-Git-Git-Configuration#_core_autocrlf).\n",
    ">\n",
    "> You can change the way Git recognizes and encodes line endings\n",
    "> using the `core.autocrlf` command to `git config`.\n",
    "> The following settings are recommended:\n",
    ">\n",
    "> On macOS and Linux:\n",
    ">"
   ]
  },
  {
   "cell_type": "code",
   "execution_count": null,
   "id": "67f50b37",
   "metadata": {},
   "outputs": [],
   "source": [
    "%%bash\n",
    "> $ git config --global core.autocrlf input"
   ]
  },
  {
   "cell_type": "markdown",
   "id": "eb477278",
   "metadata": {},
   "source": [
    "```\n",
    "```\n",
    "\n",
    "> {: .language-bash}\n",
    ">\n",
    "> And on Windows:\n",
    ">"
   ]
  },
  {
   "cell_type": "code",
   "execution_count": null,
   "id": "818b1059",
   "metadata": {},
   "outputs": [],
   "source": [
    "%%bash\n",
    "> $ git config --global core.autocrlf true"
   ]
  },
  {
   "cell_type": "markdown",
   "id": "9b90be1e",
   "metadata": {},
   "source": [
    "```\n",
    "```\n",
    "\n",
    "> {: .language-bash}\n",
    ">\n",
    "{: .callout}\n",
    "Dracula also has to set his favorite text editor, following this table:\n",
    "| Editor             | Configuration command                            |\n",
    "|:-------------------|:-------------------------------------------------|\n",
    "| Atom | `$ git config --global core.editor \"atom --wait\"`|\n",
    "| nano               | `$ git config --global core.editor \"nano -w\"`    |\n",
    "| BBEdit (Mac, with command line tools) | `$ git config --global core.editor \"bbedit -w\"`    |\n",
    "| Sublime Text (Mac) | `$ git config --global core.editor \"/Applications/Sublime\\ Text.app/Contents/SharedSupport/bin/subl -n -w\"` |\n",
    "| Sublime Text (Win, 32-bit install) | `$ git config --global core.editor \"'c:/program files (x86)/sublime text 3/sublime_text.exe' -w\"` |\n",
    "| Sublime Text (Win, 64-bit install) | `$ git config --global core.editor \"'c:/program files/sublime text 3/sublime_text.exe' -w\"` |\n",
    "| Notepad (Win)    | `$ git config --global core.editor \"c:/Windows/System32/notepad.exe\"`|\n",
    "| Notepad++ (Win, 32-bit install)    | `$ git config --global core.editor \"'c:/program files (x86)/Notepad++/notepad++.exe' -multiInst -notabbar -nosession -noPlugin\"`|\n",
    "| Notepad++ (Win, 64-bit install)    | `$ git config --global core.editor \"'c:/program files/Notepad++/notepad++.exe' -multiInst -notabbar -nosession -noPlugin\"`|\n",
    "| Kate (Linux)       | `$ git config --global core.editor \"kate\"`       |\n",
    "| Gedit (Linux)      | `$ git config --global core.editor \"gedit --wait --new-window\"`   |\n",
    "| Scratch (Linux)       | `$ git config --global core.editor \"scratch-text-editor\"`  |\n",
    "| Emacs              | `$ git config --global core.editor \"emacs\"`   |\n",
    "| Vim                | `$ git config --global core.editor \"vim\"`   |\n",
    "| VS Code                | `$ git config --global core.editor \"code --wait\"`   |\n",
    "It is possible to reconfigure the text editor for Git whenever you want to change it.\n",
    "> ## Exiting Vim\n",
    ">\n",
    "> Note that Vim is the default editor for many programs. If you haven't used Vim before and wish to exit a session without saving\n",
    "your changes, press <kbd>Esc</kbd> then type `:q!` and hit <kbd>Return</kbd>.\n",
    "> If you want to save your changes and quit, press <kbd>Esc</kbd> then type `:wq` and hit <kbd>Return</kbd>.\n",
    "{: .callout}\n",
    "Git (2.28+) allows configuration of the name of the branch created when you\n",
    "initialize any new repository.  Dracula decides to use that feature to set it to `main` so\n",
    "it matches the cloud service he will eventually use."
   ]
  },
  {
   "cell_type": "code",
   "execution_count": null,
   "id": "a66b1663",
   "metadata": {},
   "outputs": [],
   "source": [
    "%%bash\n",
    "$ git config --global init.defaultBranch main"
   ]
  },
  {
   "cell_type": "markdown",
   "id": "8e509c2f",
   "metadata": {},
   "source": [
    "```\n",
    "```\n",
    "\n",
    "{: .language-bash}\n",
    "> ## Default Git branch naming\n",
    ">\n",
    "> Source file changes are associated with a \"branch.\"\n",
    "> For new learners in this lesson, it's enough to know that branches exist, and this lesson uses one branch.\n",
    "> By default, Git will create a branch called `master`\n",
    "> when you create a new repository with `git init` (as explained in the next Episode). This term evokes\n",
    "> the racist practice of human slavery and the\n",
    "> [software development community](https://github.com/github/renaming)  has moved to adopt\n",
    "> more inclusive language.\n",
    ">\n",
    "> In 2020, most Git code hosting services transitioned to using `main` as the default\n",
    "> branch. As an example, any new repository that is opened in GitHub and GitLab default\n",
    "> to `main`.  However, Git has not yet made the same change.  As a result, local repositories\n",
    "> must be manually configured have the same main branch name as most cloud services.\n",
    ">\n",
    "> For versions of Git prior to 2.28, the change can be made on an individual repository level.  The\n",
    "> command for this is in the next episode.  Note that if this value is unset in your local Git\n",
    "> configuration, the `init.defaultBranch` value defaults to `master`.\n",
    ">\n",
    "{: .callout}\n",
    "The five commands we just ran above only need to be run once: the flag `--global` tells Git\n",
    "to use the settings for every project, in your user account, on this computer.\n",
    "You can check your settings at any time:"
   ]
  },
  {
   "cell_type": "code",
   "execution_count": null,
   "id": "0aef891b",
   "metadata": {},
   "outputs": [],
   "source": [
    "%%bash\n",
    "$ git config --list"
   ]
  },
  {
   "cell_type": "markdown",
   "id": "bdf4a876",
   "metadata": {},
   "source": [
    "```\n",
    "```\n",
    "\n",
    "{: .language-bash}\n",
    "You can change your configuration as many times as you want: use the\n",
    "same commands to choose another editor or update your email address.\n",
    "> ## Proxy\n",
    ">\n",
    "> In some networks you need to use a\n",
    "> [proxy](https://en.wikipedia.org/wiki/Proxy_server). If this is the case, you\n",
    "> may also need to tell Git about the proxy:\n",
    ">"
   ]
  },
  {
   "cell_type": "code",
   "execution_count": null,
   "id": "8afbe7bf",
   "metadata": {},
   "outputs": [],
   "source": [
    "%%bash\n",
    "> $ git config --global http.proxy proxy-url\n",
    "> $ git config --global https.proxy proxy-url"
   ]
  },
  {
   "cell_type": "markdown",
   "id": "1969d1f8",
   "metadata": {},
   "source": [
    "```\n",
    "```\n",
    "\n",
    "> {: .language-bash}\n",
    ">\n",
    "> To disable the proxy, use\n",
    ">"
   ]
  },
  {
   "cell_type": "code",
   "execution_count": null,
   "id": "37faa961",
   "metadata": {},
   "outputs": [],
   "source": [
    "%%bash\n",
    "> $ git config --global --unset http.proxy\n",
    "> $ git config --global --unset https.proxy"
   ]
  },
  {
   "cell_type": "markdown",
   "id": "1b6b8868",
   "metadata": {},
   "source": [
    "```\n",
    "```\n",
    "\n",
    "> {: .language-bash}\n",
    "{: .callout}\n",
    "> ## Git Help and Manual\n",
    ">\n",
    "> Always remember that if you forget the subcommands or options of a `git` command, you can access the\n",
    "> relevant list of options typing `git <command> -h` or access the corresponding Git manual by typing\n",
    "> `git <command> --help`, e.g.:\n",
    ">"
   ]
  },
  {
   "cell_type": "code",
   "execution_count": null,
   "id": "99fa19eb",
   "metadata": {},
   "outputs": [],
   "source": [
    "%%bash\n",
    "> $ git config -h\n",
    "> $ git config --help"
   ]
  },
  {
   "cell_type": "markdown",
   "id": "dabb5e94",
   "metadata": {},
   "source": [
    "```\n",
    "```\n",
    "\n",
    "> {: .language-bash}\n",
    ">\n",
    "> While viewing the manual, remember the `:` is a prompt waiting for commands and you can press <kbd>Q</kbd> to exit the manual.\n",
    ">\n",
    "> More generally, you can get the list of available `git` commands and further resources of the Git manual typing:\n",
    ">"
   ]
  },
  {
   "cell_type": "code",
   "execution_count": null,
   "id": "d8f423d2",
   "metadata": {
    "lines_to_next_cell": 0
   },
   "outputs": [],
   "source": [
    "%%bash\n",
    "> $ git help"
   ]
  },
  {
   "cell_type": "markdown",
   "id": "0d2c6ddc",
   "metadata": {},
   "source": []
  }
 ],
 "metadata": {
  "jupytext": {
   "formats": "ipynb,md"
  },
  "kernelspec": {
   "display_name": "Python 3 (ipykernel)",
   "language": "python",
   "name": "python3"
  }
 },
 "nbformat": 4,
 "nbformat_minor": 5
}
