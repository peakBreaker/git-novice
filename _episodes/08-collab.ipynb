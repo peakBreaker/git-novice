{
 "cells": [
  {
   "cell_type": "raw",
   "id": "eee07a05",
   "metadata": {},
   "source": [
    "---\n",
    "\n",
    "---"
   ]
  },
  {
   "cell_type": "markdown",
   "id": "26507721",
   "metadata": {},
   "source": [
    "\n",
    "```\n",
    "```\n",
    "\n",
    "---\n",
    "title: Collaborating\n",
    "teaching: 25\n",
    "exercises: 0\n",
    "questions:\n",
    "- \"How can I use version control to collaborate with other people?\"\n",
    "objectives:\n",
    "- \"Clone a remote repository.\"\n",
    "- \"Collaborate by pushing to a common repository.\"\n",
    "- \"Describe the basic collaborative workflow.\"\n",
    "keypoints:\n",
    "- \"`git clone` copies a remote repository to create a local repository with a remote called `origin` automatically set up.\"\n",
    "---\n",
    "For the next step, get into pairs.  One person will be the \"Owner\" and the other\n",
    "will be the \"Collaborator\". The goal is that the Collaborator add changes into\n",
    "the Owner's repository. We will switch roles at the end, so both persons will\n",
    "play Owner and Collaborator.\n",
    "> ## Practicing By Yourself\n",
    ">\n",
    "> If you're working through this lesson on your own, you can carry on by opening\n",
    "> a second terminal window.\n",
    "> This window will represent your partner, working on another computer. You\n",
    "> won't need to give anyone access on GitHub, because both 'partners' are you.\n",
    "{: .callout}\n",
    "The Owner needs to give the Collaborator access. On GitHub, click the settings\n",
    "button on the right, select Manage access, click Invite a collaborator, and\n",
    "then enter your partner's username.\n",
    "![Adding Collaborators on GitHub](../fig/github-add-collaborators.png)\n",
    "To accept access to the Owner's repo, the Collaborator\n",
    "needs to go to [https://github.com/notifications](https://github.com/notifications).\n",
    "Once there she can accept access to the Owner's repo.\n",
    "Next, the Collaborator needs to download a copy of the Owner's repository to her\n",
    "machine. This is called \"cloning a repo\".\n",
    "To clone the Owner's repo into\n",
    "her `Desktop` folder, the Collaborator enters:"
   ]
  },
  {
   "cell_type": "code",
   "execution_count": null,
   "id": "c53ef77f",
   "metadata": {},
   "outputs": [],
   "source": [
    "%%bash\n",
    "$ git clone https://github.com/vlad/planets.git ~/Desktop/vlad-planets"
   ]
  },
  {
   "cell_type": "markdown",
   "id": "77a724fd",
   "metadata": {},
   "source": [
    "```\n",
    "```\n",
    "\n",
    "{: .language-bash}\n",
    "Replace 'vlad' with the Owner's username.\n",
    "If you choose to clone without the clone path\n",
    "(`~/Desktop/vlad-planets`) specified at the end,\n",
    "you will clone inside your own planets folder!\n",
    "Make sure to navigate to the `Desktop` folder first.\n",
    "![After Creating Clone of Repository](../fig/github-collaboration.svg)\n",
    "The Collaborator can now make a change in her clone of the Owner's repository,\n",
    "exactly the same way as we've been doing before:"
   ]
  },
  {
   "cell_type": "code",
   "execution_count": null,
   "id": "7e660133",
   "metadata": {},
   "outputs": [],
   "source": [
    "%%bash\n",
    "$ cd ~/Desktop/vlad-planets\n",
    "$ nano pluto.txt\n",
    "$ cat pluto.txt"
   ]
  },
  {
   "cell_type": "markdown",
   "id": "da243f60",
   "metadata": {},
   "source": [
    "{: .language-bash}\n",
    "\n",
    "```\n",
    "It is so a planet!\n",
    "```\n",
    "\n",
    "{: .output}"
   ]
  },
  {
   "cell_type": "code",
   "execution_count": null,
   "id": "99dac8ee",
   "metadata": {},
   "outputs": [],
   "source": [
    "%%bash\n",
    "$ git add pluto.txt\n",
    "$ git commit -m \"Add notes about Pluto\""
   ]
  },
  {
   "cell_type": "markdown",
   "id": "e091012c",
   "metadata": {},
   "source": [
    "{: .language-bash}\n",
    "\n",
    "```\n",
    "1 file changed, 1 insertion(+)\n",
    "create mode 100644 pluto.txt\n",
    "```\n",
    "\n",
    "{: .output}\n",
    "Then push the change to the *Owner's repository* on GitHub:"
   ]
  },
  {
   "cell_type": "code",
   "execution_count": null,
   "id": "9e805fb5",
   "metadata": {},
   "outputs": [],
   "source": [
    "%%bash\n",
    "$ git push origin main"
   ]
  },
  {
   "cell_type": "markdown",
   "id": "4b7702d4",
   "metadata": {},
   "source": [
    "{: .language-bash}\n",
    "\n",
    "```\n",
    "Enumerating objects: 4, done.\n",
    "Counting objects: 4, done.\n",
    "Delta compression using up to 4 threads.\n",
    "Compressing objects: 100% (2/2), done.\n",
    "Writing objects: 100% (3/3), 306 bytes, done.\n",
    "Total 3 (delta 0), reused 0 (delta 0)\n",
    "To https://github.com/vlad/planets.git\n",
    "9272da5..29aba7c  main -> main\n",
    "```\n",
    "\n",
    "{: .output}\n",
    "Note that we didn't have to create a remote called `origin`: Git uses this\n",
    "name by default when we clone a repository.  (This is why `origin` was a\n",
    "sensible choice earlier when we were setting up remotes by hand.)\n",
    "Take a look at the Owner’s repository on GitHub again, and you should be\n",
    "able to see the new commit made by the Collaborator. You may need to refresh\n",
    "your browser to see the new commit.\n",
    "> ## Some more about remotes\n",
    ">\n",
    "> In this episode and the previous one, our local repository has had\n",
    "> a single \"remote\", called `origin`. A remote is a copy of the repository\n",
    "> that is hosted somewhere else, that we can push to and pull from, and\n",
    "> there's no reason that you have to work with only one. For example,\n",
    "> on some large projects you might have your own copy in your own GitHub\n",
    "> account (you'd probably call this `origin`) and also the main \"upstream\"\n",
    "> project repository (let's call this `upstream` for the sake of examples).\n",
    "> You would pull from `upstream` from time to\n",
    "> time to get the latest updates that other people have committed.\n",
    ">\n",
    "> Remember that the name you give to a remote only exists locally. It's\n",
    "> an alias that you choose - whether `origin`, or `upstream`, or `fred` -\n",
    "> and not something intrinstic to the remote repository.\n",
    ">\n",
    "> The `git remote` family of commands is used to set up and alter the remotes\n",
    "> associated with a repository. Here are some of the most useful ones:\n",
    ">\n",
    "> * `git remote -v` lists all the remotes that are configured (we already used\n",
    "> this in the last episode)\n",
    "> * `git remote add [name] [url]` is used to add a new remote\n",
    "> * `git remote remove [name]` removes a remote. Note that it doesn't affect the\n",
    "> remote repository at all - it just removes the link to it from the local repo.\n",
    "> * `git remote set-url [name] [newurl]` changes the URL that is associated\n",
    "> with the remote. This is useful if it has moved, e.g. to a different GitHub\n",
    "> account, or from GitHub to a different hosting service. Or, if we made a typo when\n",
    "> adding it!\n",
    "> * `git remote rename [oldname] [newname]` changes the local alias by which a remote\n",
    "> is known - its name. For example, one could use this to change `upstream` to `fred`.\n",
    "{: .callout}\n",
    "To download the Collaborator's changes from GitHub, the Owner now enters:"
   ]
  },
  {
   "cell_type": "code",
   "execution_count": null,
   "id": "1d2a1938",
   "metadata": {},
   "outputs": [],
   "source": [
    "%%bash\n",
    "$ git pull origin main"
   ]
  },
  {
   "cell_type": "markdown",
   "id": "4d12a3ff",
   "metadata": {},
   "source": [
    "{: .language-bash}\n"
   ]
  }
 ],
 "metadata": {
  "jupytext": {
   "formats": "ipynb,md"
  },
  "kernelspec": {
   "display_name": "Python 3 (ipykernel)",
   "language": "python",
   "name": "python3"
  }
 },
 "nbformat": 4,
 "nbformat_minor": 5
}
