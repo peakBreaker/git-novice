{
 "cells": [
  {
   "cell_type": "raw",
   "id": "00af4190",
   "metadata": {},
   "source": [
    "---\n",
    "\n",
    "---"
   ]
  },
  {
   "cell_type": "markdown",
   "id": "021a9922",
   "metadata": {},
   "source": [
    "\n",
    "```\n",
    "```\n",
    "\n",
    "---\n",
    "title: Tracking Changes\n",
    "teaching: 20\n",
    "exercises: 0\n",
    "questions:\n",
    "- \"How do I record changes in Git?\"\n",
    "- \"How do I check the status of my version control repository?\"\n",
    "- \"How do I record notes about what changes I made and why?\"\n",
    "objectives:\n",
    "- \"Go through the modify-add-commit cycle for one or more files.\"\n",
    "- \"Explain where information is stored at each stage of that cycle.\"\n",
    "- \"Distinguish between descriptive and non-descriptive commit messages.\"\n",
    "keypoints:\n",
    "- \"`git status` shows the status of a repository.\"\n",
    "- \"Files can be stored in a project's working directory (which users see), the staging area (where the next commit is being built up) and the local repository (where commits are permanently recorded).\"\n",
    "- \"`git add` puts files in the staging area.\"\n",
    "- \"`git commit` saves the staged content as a new commit in the local repository.\"\n",
    "- \"Write a commit message that accurately describes your changes.\"\n",
    "---\n",
    "First let's make sure we're still in the right directory.\n",
    "You should be in the `planets` directory."
   ]
  },
  {
   "cell_type": "code",
   "execution_count": null,
   "id": "15ebe906",
   "metadata": {},
   "outputs": [],
   "source": [
    "%%bash\n",
    "$ cd ~/Desktop/planets"
   ]
  },
  {
   "cell_type": "markdown",
   "id": "20e5fc49",
   "metadata": {},
   "source": [
    "```\n",
    "```\n",
    "\n",
    "{: .language-bash}\n",
    "Let's create a file called `mars.txt` that contains some notes\n",
    "about the Red Planet's suitability as a base.\n",
    "We'll use `nano` to edit the file;\n",
    "you can use whatever editor you like.\n",
    "In particular, this does not have to be the `core.editor` you set globally earlier. But remember, the bash command to create or edit a new file will depend on the editor you choose (it might not be `nano`). For a refresher on text editors, check out [\"Which Editor?\"](https://swcarpentry.github.io/shell-novice/03-create/) in [The Unix Shell](https://swcarpentry.github.io/shell-novice/) lesson."
   ]
  },
  {
   "cell_type": "code",
   "execution_count": null,
   "id": "63e669ce",
   "metadata": {},
   "outputs": [],
   "source": [
    "%%bash\n",
    "$ nano mars.txt"
   ]
  },
  {
   "cell_type": "markdown",
   "id": "85721517",
   "metadata": {},
   "source": [
    "```\n",
    "```\n",
    "\n",
    "{: .language-bash}\n",
    "Type the text below into the `mars.txt` file:\n",
    "\n",
    "```\n",
    "Cold and dry, but everything is my favorite color\n",
    "```\n",
    "\n",
    "{: .output}\n",
    "Let's first verify that the file was properly created by running the list command (`ls`):"
   ]
  },
  {
   "cell_type": "code",
   "execution_count": null,
   "id": "187a61b7",
   "metadata": {},
   "outputs": [],
   "source": [
    "%%bash\n",
    "$ ls"
   ]
  },
  {
   "cell_type": "markdown",
   "id": "b35ae580",
   "metadata": {},
   "source": [
    "{: .language-bash}\n",
    "\n",
    "```\n",
    "mars.txt\n",
    "```\n",
    "\n",
    "{: .output}\n",
    "`mars.txt` contains a single line, which we can see by running:"
   ]
  },
  {
   "cell_type": "code",
   "execution_count": null,
   "id": "63dcbdf0",
   "metadata": {},
   "outputs": [],
   "source": [
    "%%bash\n",
    "$ cat mars.txt"
   ]
  },
  {
   "cell_type": "markdown",
   "id": "3671be29",
   "metadata": {},
   "source": [
    "{: .language-bash}\n",
    "\n",
    "```\n",
    "Cold and dry, but everything is my favorite color\n",
    "```\n",
    "\n",
    "{: .output}\n",
    "If we check the status of our project again,\n",
    "Git tells us that it's noticed the new file:"
   ]
  },
  {
   "cell_type": "code",
   "execution_count": null,
   "id": "f121babf",
   "metadata": {},
   "outputs": [],
   "source": [
    "%%bash\n",
    "$ git status"
   ]
  },
  {
   "cell_type": "markdown",
   "id": "7ad37a88",
   "metadata": {},
   "source": [
    "{: .language-bash}\n",
    "\n",
    "```\n",
    "On branch main\n",
    "No commits yet\n",
    "Untracked files:\n",
    "(use \"git add <file>...\" to include in what will be committed)\n",
    "mars.txt\n",
    "nothing added to commit but untracked files present (use \"git add\" to track)\n",
    "```\n",
    "\n",
    "{: .output}\n",
    "The \"untracked files\" message means that there's a file in the directory\n",
    "that Git isn't keeping track of.\n",
    "We can tell Git to track a file using `git add`:"
   ]
  },
  {
   "cell_type": "code",
   "execution_count": null,
   "id": "e39783ad",
   "metadata": {},
   "outputs": [],
   "source": [
    "%%bash\n",
    "$ git add mars.txt"
   ]
  },
  {
   "cell_type": "markdown",
   "id": "cf8029f3",
   "metadata": {},
   "source": [
    "```\n",
    "```\n",
    "\n",
    "{: .language-bash}\n",
    "and then check that the right thing happened:"
   ]
  },
  {
   "cell_type": "code",
   "execution_count": null,
   "id": "e85312b0",
   "metadata": {},
   "outputs": [],
   "source": [
    "%%bash\n",
    "$ git status"
   ]
  },
  {
   "cell_type": "markdown",
   "id": "e0772501",
   "metadata": {},
   "source": [
    "{: .language-bash}\n",
    "\n",
    "```\n",
    "On branch main\n",
    "No commits yet\n",
    "Changes to be committed:\n",
    "(use \"git rm --cached <file>...\" to unstage)\n",
    "new file:   mars.txt\n",
    "```\n",
    "\n",
    "{: .output}\n",
    "Git now knows that it's supposed to keep track of `mars.txt`,\n",
    "but it hasn't recorded these changes as a commit yet.\n",
    "To get it to do that,\n",
    "we need to run one more command:"
   ]
  },
  {
   "cell_type": "code",
   "execution_count": null,
   "id": "bfb38828",
   "metadata": {},
   "outputs": [],
   "source": [
    "%%bash\n",
    "$ git commit -m \"Start notes on Mars as a base\""
   ]
  },
  {
   "cell_type": "markdown",
   "id": "47701cde",
   "metadata": {},
   "source": [
    "{: .language-bash}\n",
    "\n",
    "```\n",
    "[main (root-commit) f22b25e] Start notes on Mars as a base\n",
    "1 file changed, 1 insertion(+)\n",
    "create mode 100644 mars.txt\n",
    "```\n",
    "\n",
    "{: .output}\n",
    "When we run `git commit`,\n",
    "Git takes everything we have told it to save by using `git add`\n",
    "and stores a copy permanently inside the special `.git` directory.\n",
    "This permanent copy is called a [commit]({{ page.root }}{% link reference.md %}#commit)\n",
    "(or [revision]({{ page.root }}{% link reference.md %}#revision)) and its short identifier is `f22b25e`. Your commit may have another identifier.\n",
    "We use the `-m` flag (for \"message\")\n",
    "to record a short, descriptive, and specific comment that will help us remember later on what we did and why.\n",
    "If we just run `git commit` without the `-m` option,\n",
    "Git will launch `nano` (or whatever other editor we configured as `core.editor`)\n",
    "so that we can write a longer message.\n",
    "[Good commit messages][commit-messages] start with a brief (<50 characters) statement about the\n",
    "changes made in the commit. Generally, the message should complete the sentence \"If applied, this commit will\" <commit message here>.\n",
    "If you want to go into more detail, add a blank line between the summary line and your additional notes. Use this additional space to explain why you made changes and/or what their impact will be.\n",
    "If we run `git status` now:"
   ]
  },
  {
   "cell_type": "code",
   "execution_count": null,
   "id": "c152accd",
   "metadata": {},
   "outputs": [],
   "source": [
    "%%bash\n",
    "$ git status"
   ]
  },
  {
   "cell_type": "markdown",
   "id": "f52764c8",
   "metadata": {},
   "source": [
    "{: .language-bash}\n",
    "\n",
    "```\n",
    "On branch main\n",
    "nothing to commit, working directory clean\n",
    "```\n",
    "\n",
    "{: .output}\n",
    "it tells us everything is up to date.\n",
    "If we want to know what we've done recently,\n",
    "we can ask Git to show us the project's history using `git log`:"
   ]
  },
  {
   "cell_type": "code",
   "execution_count": null,
   "id": "34427a54",
   "metadata": {},
   "outputs": [],
   "source": [
    "%%bash\n",
    "$ git log"
   ]
  },
  {
   "cell_type": "markdown",
   "id": "f1106408",
   "metadata": {},
   "source": [
    "{: .language-bash}\n",
    "\n",
    "```\n",
    "commit f22b25e3233b4645dabd0d81e651fe074bd8e73b\n",
    "Author: Vlad Dracula <vlad@tran.sylvan.ia>\n",
    "Date:   Thu Aug 22 09:51:46 2013 -0400\n",
    "Start notes on Mars as a base\n",
    "```\n",
    "\n",
    "{: .output}\n",
    "`git log` lists all commits  made to a repository in reverse chronological order.\n",
    "The listing for each commit includes\n",
    "the commit's full identifier\n",
    "(which starts with the same characters as\n",
    "the short identifier printed by the `git commit` command earlier),\n",
    "the commit's author,\n",
    "when it was created,\n",
    "and the log message Git was given when the commit was created.\n",
    "> ## Where Are My Changes?\n",
    ">\n",
    "> If we run `ls` at this point, we will still see just one file called `mars.txt`.\n",
    "> That's because Git saves information about files' history\n",
    "> in the special `.git` directory mentioned earlier\n",
    "> so that our filesystem doesn't become cluttered\n",
    "> (and so that we can't accidentally edit or delete an old version).\n",
    "{: .callout}\n",
    "Now suppose Dracula adds more information to the file.\n",
    "(Again, we'll edit with `nano` and then `cat` the file to show its contents;\n",
    "you may use a different editor, and don't need to `cat`.)"
   ]
  },
  {
   "cell_type": "code",
   "execution_count": null,
   "id": "252febff",
   "metadata": {},
   "outputs": [],
   "source": [
    "%%bash\n",
    "$ nano mars.txt\n",
    "$ cat mars.txt"
   ]
  },
  {
   "cell_type": "markdown",
   "id": "08f66427",
   "metadata": {},
   "source": [
    "{: .language-bash}\n",
    "\n",
    "```\n",
    "Cold and dry, but everything is my favorite color\n",
    "The two moons may be a problem for Wolfman\n",
    "```\n",
    "\n",
    "{: .output}\n",
    "When we run `git status` now,\n",
    "it tells us that a file it already knows about has been modified:"
   ]
  },
  {
   "cell_type": "code",
   "execution_count": null,
   "id": "6938e6a9",
   "metadata": {},
   "outputs": [],
   "source": [
    "%%bash\n",
    "$ git status"
   ]
  },
  {
   "cell_type": "markdown",
   "id": "3faf23dc",
   "metadata": {},
   "source": [
    "{: .language-bash}\n",
    "\n",
    "```\n",
    "On branch main\n",
    "Changes not staged for commit:\n",
    "(use \"git add <file>...\" to update what will be committed)\n",
    "(use \"git checkout -- <file>...\" to discard changes in working directory)\n",
    "modified:   mars.txt\n",
    "no changes added to commit (use \"git add\" and/or \"git commit -a\")\n",
    "```\n",
    "\n",
    "{: .output}\n",
    "The last line is the key phrase:\n",
    "\"no changes added to commit\".\n",
    "We have changed this file,\n",
    "but we haven't told Git we will want to save those changes\n",
    "(which we do with `git add`)\n",
    "nor have we saved them (which we do with `git commit`).\n",
    "So let's do that now. It is good practice to always review\n",
    "our changes before saving them. We do this using `git diff`.\n",
    "This shows us the differences between the current state\n",
    "of the file and the most recently saved version:"
   ]
  },
  {
   "cell_type": "code",
   "execution_count": null,
   "id": "763c8fa5",
   "metadata": {},
   "outputs": [],
   "source": [
    "%%bash\n",
    "$ git diff"
   ]
  },
  {
   "cell_type": "markdown",
   "id": "acddf9e7",
   "metadata": {},
   "source": [
    "{: .language-bash}\n",
    "\n",
    "```\n",
    "diff --git a/mars.txt b/mars.txt\n",
    "index df0654a..315bf3a 100644\n",
    "--- a/mars.txt\n",
    "+++ b/mars.txt\n",
    "@@ -1 +1,2 @@\n",
    "Cold and dry, but everything is my favorite color\n",
    "+The two moons may be a problem for Wolfman\n",
    "```\n",
    "\n",
    "{: .output}\n",
    "The output is cryptic because\n",
    "it is actually a series of commands for tools like editors and `patch`\n",
    "telling them how to reconstruct one file given the other.\n",
    "If we break it down into pieces:\n",
    "1.  The first line tells us that Git is producing output similar to the Unix `diff` command\n",
    "comparing the old and new versions of the file.\n",
    "2.  The second line tells exactly which versions of the file\n",
    "Git is comparing;\n",
    "`df0654a` and `315bf3a` are unique computer-generated labels for those versions.\n",
    "3.  The third and fourth lines once again show the name of the file being changed.\n",
    "4.  The remaining lines are the most interesting, they show us the actual differences\n",
    "and the lines on which they occur.\n",
    "In particular,\n",
    "the `+` marker in the first column shows where we added a line.\n",
    "After reviewing our change, it's time to commit it:"
   ]
  },
  {
   "cell_type": "code",
   "execution_count": null,
   "id": "c7e8dc36",
   "metadata": {},
   "outputs": [],
   "source": [
    "%%bash\n",
    "$ git commit -m \"Add concerns about effects of Mars' moons on Wolfman\""
   ]
  },
  {
   "cell_type": "markdown",
   "id": "ccdba470",
   "metadata": {},
   "source": [
    "{: .language-bash}\n",
    "\n",
    "```\n",
    "On branch main\n",
    "Changes not staged for commit:\n",
    "(use \"git add <file>...\" to update what will be committed)\n",
    "(use \"git checkout -- <file>...\" to discard changes in working directory)\n",
    "modified:   mars.txt\n",
    "no changes added to commit (use \"git add\" and/or \"git commit -a\")\n",
    "```\n",
    "\n",
    "{: .output}\n",
    "Whoops:\n",
    "Git won't commit because we didn't use `git add` first.\n",
    "Let's fix that:"
   ]
  },
  {
   "cell_type": "code",
   "execution_count": null,
   "id": "41353459",
   "metadata": {},
   "outputs": [],
   "source": [
    "%%bash\n",
    "$ git add mars.txt\n",
    "$ git commit -m \"Add concerns about effects of Mars' moons on Wolfman\""
   ]
  },
  {
   "cell_type": "markdown",
   "id": "962acc1e",
   "metadata": {},
   "source": [
    "{: .language-bash}\n",
    "\n",
    "```\n",
    "[main 34961b1] Add concerns about effects of Mars' moons on Wolfman\n",
    "1 file changed, 1 insertion(+)\n",
    "```\n",
    "\n",
    "{: .output}\n",
    "Git insists that we add files to the set we want to commit\n",
    "before actually committing anything. This allows us to commit our\n",
    "changes in stages and capture changes in logical portions rather than\n",
    "only large batches.\n",
    "For example,\n",
    "suppose we're adding a few citations to relevant research to our thesis.\n",
    "We might want to commit those additions,\n",
    "and the corresponding bibliography entries,\n",
    "but *not* commit some of our work drafting the conclusion\n",
    "(which we haven't finished yet).\n",
    "To allow for this,\n",
    "Git has a special *staging area*\n",
    "where it keeps track of things that have been added to\n",
    "the current [changeset]({{ page.root }}{% link reference.md %}#changeset)\n",
    "but not yet committed.\n",
    "> ## Staging Area\n",
    ">\n",
    "> If you think of Git as taking snapshots of changes over the life of a project,\n",
    "> `git add` specifies *what* will go in a snapshot\n",
    "> (putting things in the staging area),\n",
    "> and `git commit` then *actually takes* the snapshot, and\n",
    "> makes a permanent record of it (as a commit).\n",
    "> If you don't have anything staged when you type `git commit`,\n",
    "> Git will prompt you to use `git commit -a` or `git commit --all`,\n",
    "> which is kind of like gathering *everyone* to take a group photo!\n",
    "> However, it's almost always better to\n",
    "> explicitly add things to the staging area, because you might\n",
    "> commit changes you forgot you made. (Going back to the group photo simile,\n",
    "> you might get an extra with incomplete makeup walking on\n",
    "> the stage for the picture because you used `-a`!)\n",
    "> Try to stage things manually,\n",
    "> or you might find yourself searching for \"git undo commit\" more\n",
    "> than you would like!\n",
    "{: .callout}\n",
    "![The Git Staging Area](../fig/git-staging-area.svg)\n",
    "Let's watch as our changes to a file move from our editor\n",
    "to the staging area\n",
    "and into long-term storage.\n",
    "First,\n",
    "we'll add another line to the file:"
   ]
  },
  {
   "cell_type": "code",
   "execution_count": null,
   "id": "2edb914c",
   "metadata": {},
   "outputs": [],
   "source": [
    "%%bash\n",
    "$ nano mars.txt\n",
    "$ cat mars.txt"
   ]
  },
  {
   "cell_type": "markdown",
   "id": "21bc7dc0",
   "metadata": {},
   "source": [
    "{: .language-bash}\n",
    "\n",
    "```\n",
    "Cold and dry, but everything is my favorite color\n",
    "The two moons may be a problem for Wolfman\n",
    "But the Mummy will appreciate the lack of humidity\n",
    "```\n",
    "\n",
    "{: .output}"
   ]
  },
  {
   "cell_type": "code",
   "execution_count": null,
   "id": "4463c13c",
   "metadata": {},
   "outputs": [],
   "source": [
    "%%bash\n",
    "$ git diff"
   ]
  },
  {
   "cell_type": "markdown",
   "id": "21582f56",
   "metadata": {},
   "source": [
    "{: .language-bash}\n",
    "\n",
    "```\n",
    "diff --git a/mars.txt b/mars.txt\n",
    "index 315bf3a..b36abfd 100644\n",
    "--- a/mars.txt\n",
    "+++ b/mars.txt\n",
    "@@ -1,2 +1,3 @@\n",
    "Cold and dry, but everything is my favorite color\n",
    "The two moons may be a problem for Wolfman\n",
    "+But the Mummy will appreciate the lack of humidity\n",
    "```\n",
    "\n",
    "{: .output}\n",
    "So far, so good:\n",
    "we've added one line to the end of the file\n",
    "(shown with a `+` in the first column).\n",
    "Now let's put that change in the staging area\n",
    "and see what `git diff` reports:"
   ]
  },
  {
   "cell_type": "code",
   "execution_count": null,
   "id": "2e2068e1",
   "metadata": {},
   "outputs": [],
   "source": [
    "%%bash\n",
    "$ git add mars.txt\n",
    "$ git diff"
   ]
  },
  {
   "cell_type": "markdown",
   "id": "9f533994",
   "metadata": {},
   "source": [
    "```\n",
    "```\n",
    "\n",
    "{: .language-bash}\n",
    "There is no output:\n",
    "as far as Git can tell,\n",
    "there's no difference between what it's been asked to save permanently\n",
    "and what's currently in the directory.\n",
    "However,\n",
    "if we do this:"
   ]
  },
  {
   "cell_type": "code",
   "execution_count": null,
   "id": "d9445a26",
   "metadata": {},
   "outputs": [],
   "source": [
    "%%bash\n",
    "$ git diff --staged"
   ]
  },
  {
   "cell_type": "markdown",
   "id": "59eb72c5",
   "metadata": {},
   "source": [
    "{: .language-bash}\n",
    "\n",
    "```\n",
    "diff --git a/mars.txt b/mars.txt\n",
    "index 315bf3a..b36abfd 100644\n",
    "--- a/mars.txt\n",
    "+++ b/mars.txt\n",
    "@@ -1,2 +1,3 @@\n",
    "Cold and dry, but everything is my favorite color\n",
    "The two moons may be a problem for Wolfman\n",
    "+But the Mummy will appreciate the lack of humidity\n",
    "```\n",
    "\n",
    "{: .output}\n",
    "it shows us the difference between\n",
    "the last committed change\n",
    "and what's in the staging area.\n",
    "Let's save our changes:"
   ]
  },
  {
   "cell_type": "code",
   "execution_count": null,
   "id": "2a814977",
   "metadata": {},
   "outputs": [],
   "source": [
    "%%bash\n",
    "$ git commit -m \"Discuss concerns about Mars' climate for Mummy\""
   ]
  },
  {
   "cell_type": "markdown",
   "id": "551e472e",
   "metadata": {},
   "source": [
    "{: .language-bash}\n",
    "\n",
    "```\n",
    "[main 005937f] Discuss concerns about Mars' climate for Mummy\n",
    "1 file changed, 1 insertion(+)\n",
    "```\n",
    "\n",
    "{: .output}\n",
    "check our status:"
   ]
  },
  {
   "cell_type": "code",
   "execution_count": null,
   "id": "10594444",
   "metadata": {},
   "outputs": [],
   "source": [
    "%%bash\n",
    "$ git status"
   ]
  },
  {
   "cell_type": "markdown",
   "id": "0a7e4b1f",
   "metadata": {},
   "source": [
    "{: .language-bash}\n",
    "\n",
    "```\n",
    "On branch main\n",
    "nothing to commit, working directory clean\n",
    "```\n",
    "\n",
    "{: .output}\n",
    "and look at the history of what we've done so far:"
   ]
  },
  {
   "cell_type": "code",
   "execution_count": null,
   "id": "a88cc299",
   "metadata": {},
   "outputs": [],
   "source": [
    "%%bash\n",
    "$ git log"
   ]
  },
  {
   "cell_type": "markdown",
   "id": "a0015faf",
   "metadata": {},
   "source": [
    "{: .language-bash}\n",
    "\n",
    "```\n",
    "commit 005937fbe2a98fb83f0ade869025dc2636b4dad5 (HEAD -> main)\n",
    "Author: Vlad Dracula <vlad@tran.sylvan.ia>\n",
    "Date:   Thu Aug 22 10:14:07 2013 -0400\n",
    "Discuss concerns about Mars' climate for Mummy\n",
    "commit 34961b159c27df3b475cfe4415d94a6d1fcd064d\n",
    "Author: Vlad Dracula <vlad@tran.sylvan.ia>\n",
    "Date:   Thu Aug 22 10:07:21 2013 -0400\n",
    "Add concerns about effects of Mars' moons on Wolfman\n",
    "commit f22b25e3233b4645dabd0d81e651fe074bd8e73b\n",
    "Author: Vlad Dracula <vlad@tran.sylvan.ia>\n",
    "Date:   Thu Aug 22 09:51:46 2013 -0400\n",
    "Start notes on Mars as a base\n",
    "```\n",
    "\n",
    "{: .output}\n",
    "> ## Word-based diffing\n",
    ">\n",
    "> Sometimes, e.g. in the case of the text documents a line-wise\n",
    "> diff is too coarse. That is where the `--color-words` option of\n",
    "> `git diff` comes in very useful as it highlights the changed\n",
    "> words using colors.\n",
    "{: .callout}\n",
    "> ## Paging the Log\n",
    ">\n",
    "> When the output of `git log` is too long to fit in your screen,\n",
    "> `git` uses a program to split it into pages of the size of your screen.\n",
    "> When this \"pager\" is called, you will notice that the last line in your\n",
    "> screen is a `:`, instead of your usual prompt.\n",
    ">\n",
    "> *   To get out of the pager, press <kbd>Q</kbd>.\n",
    "> *   To move to the next page, press <kbd>Spacebar</kbd>.\n",
    "> *   To search for `some_word` in all pages,\n",
    ">     press <kbd>/</kbd>\n",
    ">     and type `some_word`.\n",
    ">     Navigate through matches pressing <kbd>N</kbd>.\n",
    "{: .callout}\n",
    "> ## Limit Log Size\n",
    ">\n",
    "> To avoid having `git log` cover your entire terminal screen, you can limit the\n",
    "> number of commits that Git lists by using `-N`, where `N` is the number of\n",
    "> commits that you want to view. For example, if you only want information from\n",
    "> the last commit you can use:\n",
    ">"
   ]
  },
  {
   "cell_type": "code",
   "execution_count": null,
   "id": "93b704d5",
   "metadata": {},
   "outputs": [],
   "source": [
    "%%bash\n",
    "> $ git log -1"
   ]
  },
  {
   "cell_type": "markdown",
   "id": "573eda87",
   "metadata": {},
   "source": [
    "```\n",
    "```\n",
    "\n",
    "> {: .language-bash}\n",
    ">\n",
    "\n",
    "```\n",
    "> commit 005937fbe2a98fb83f0ade869025dc2636b4dad5 (HEAD -> main)\n",
    "> Author: Vlad Dracula <vlad@tran.sylvan.ia>\n",
    "> Date:   Thu Aug 22 10:14:07 2013 -0400\n",
    ">\n",
    ">    Discuss concerns about Mars' climate for Mummy\n",
    "```\n",
    "\n",
    "> {: .output}\n",
    ">\n",
    "> You can also reduce the quantity of information using the\n",
    "> `--oneline` option:\n",
    ">"
   ]
  },
  {
   "cell_type": "code",
   "execution_count": null,
   "id": "00a55ae4",
   "metadata": {},
   "outputs": [],
   "source": [
    "%%bash\n",
    "> $ git log --oneline"
   ]
  },
  {
   "cell_type": "markdown",
   "id": "33b78ea8",
   "metadata": {},
   "source": [
    "> {: .language-bash}\n",
    "\n",
    "```\n",
    "> 005937f (HEAD -> main) Discuss concerns about Mars' climate for Mummy\n",
    "> 34961b1 Add concerns about effects of Mars' moons on Wolfman\n",
    "> f22b25e Start notes on Mars as a base\n",
    "```\n",
    "\n",
    "> {: .output}\n",
    ">\n",
    "> You can also combine the `--oneline` option with others. One useful\n",
    "> combination adds `--graph` to display the commit history as a text-based\n",
    "> graph and to indicate which commits are associated with the\n",
    "> current `HEAD`, the current branch `main`, or\n",
    "> [other Git references][git-references]:\n",
    ">"
   ]
  },
  {
   "cell_type": "code",
   "execution_count": null,
   "id": "9ea1cb92",
   "metadata": {},
   "outputs": [],
   "source": [
    "%%bash\n",
    "> $ git log --oneline --graph"
   ]
  },
  {
   "cell_type": "markdown",
   "id": "e2c7aaad",
   "metadata": {},
   "source": [
    "> {: .language-bash}\n",
    "\n",
    "```\n",
    "> * 005937f (HEAD -> main) Discuss concerns about Mars' climate for Mummy\n",
    "> * 34961b1 Add concerns about effects of Mars' moons on Wolfman\n",
    "> * f22b25e Start notes on Mars as a base\n",
    "```\n",
    "\n",
    "> {: .output}\n",
    "{: .callout}\n",
    "> ## Directories\n",
    ">\n",
    "> Two important facts you should know about directories in Git.\n",
    ">\n",
    "> 1. Git does not track directories on their own, only files within them.\n",
    ">    Try it for yourself:\n",
    ">"
   ]
  },
  {
   "cell_type": "code",
   "execution_count": null,
   "id": "bfa97e60",
   "metadata": {},
   "outputs": [],
   "source": [
    "%%bash\n",
    ">    $ mkdir spaceships\n",
    ">    $ git status\n",
    ">    $ git add spaceships\n",
    ">    $ git status"
   ]
  },
  {
   "cell_type": "markdown",
   "id": "4d836073",
   "metadata": {},
   "source": [
    "```\n",
    "```\n",
    "\n",
    ">    {: .language-bash}\n",
    ">\n",
    ">    Note, our newly created empty directory `spaceships` does not appear in\n",
    ">    the list of untracked files even if we explicitly add it (_via_ `git add`) to our\n",
    ">    repository. This is the reason why you will sometimes see `.gitkeep` files\n",
    ">    in otherwise empty directories. Unlike `.gitignore`, these files are not special\n",
    ">    and their sole purpose is to populate a directory so that Git adds it to\n",
    ">    the repository. In fact, you can name such files anything you like.\n",
    ">\n",
    "> 2. If you create a directory in your Git repository and populate it with files,\n",
    ">    you can add all files in the directory at once by:\n",
    ">"
   ]
  },
  {
   "cell_type": "code",
   "execution_count": null,
   "id": "86164f11",
   "metadata": {},
   "outputs": [],
   "source": [
    "%%bash\n",
    ">    git add <directory-with-files>"
   ]
  },
  {
   "cell_type": "markdown",
   "id": "4e0aab10",
   "metadata": {},
   "source": [
    "```\n",
    "```\n",
    "\n",
    ">    {: .language-bash}\n",
    ">\n",
    ">    Try it for yourself:\n",
    ">"
   ]
  },
  {
   "cell_type": "code",
   "execution_count": null,
   "id": "56656ae3",
   "metadata": {},
   "outputs": [],
   "source": [
    "%%bash\n",
    ">    $ touch spaceships/apollo-11 spaceships/sputnik-1\n",
    ">    $ git status\n",
    ">    $ git add spaceships\n",
    ">    $ git status"
   ]
  },
  {
   "cell_type": "markdown",
   "id": "33ab565c",
   "metadata": {},
   "source": [
    "```\n",
    "```\n",
    "\n",
    ">    {: .language-bash}\n",
    ">\n",
    ">    Before moving on, we will commit these changes.\n",
    ">"
   ]
  },
  {
   "cell_type": "code",
   "execution_count": null,
   "id": "cae8e5ca",
   "metadata": {},
   "outputs": [],
   "source": [
    "%%bash\n",
    ">    $ git commit -m \"Add some initial thoughts on spaceships\""
   ]
  },
  {
   "cell_type": "markdown",
   "id": "04c21326",
   "metadata": {},
   "source": [
    "```\n",
    "```\n",
    "\n",
    ">    {: .language-bash}\n",
    ">\n",
    "{: .callout}\n",
    "To recap, when we want to add changes to our repository,\n",
    "we first need to add the changed files to the staging area\n",
    "(`git add`) and then commit the staged changes to the\n",
    "repository (`git commit`):\n",
    "![The Git Commit Workflow](../fig/git-committing.svg)\n",
    "> ## Choosing a Commit Message\n",
    ">\n",
    "> Which of the following commit messages would be most appropriate for the\n",
    "> last commit made to `mars.txt`?\n",
    ">\n",
    "> 1. \"Changes\"\n",
    "> 2. \"Added line 'But the Mummy will appreciate the lack of humidity' to mars.txt\"\n",
    "> 3. \"Discuss effects of Mars' climate on the Mummy\"\n",
    ">\n",
    "> > ## Solution\n",
    "> > Answer 1 is not descriptive enough, and the purpose of the commit is unclear;\n",
    "> > and answer 2 is redundant to using \"git diff\" to see what changed in this commit;\n",
    "> > but answer 3 is good: short, descriptive, and imperative.\n",
    "> {: .solution}\n",
    "{: .challenge}\n",
    "> ## Committing Changes to Git\n",
    ">\n",
    "> Which command(s) below would save the changes of `myfile.txt`\n",
    "> to my local Git repository?\n",
    ">"
   ]
  },
  {
   "cell_type": "code",
   "execution_count": null,
   "id": "e5a10563",
   "metadata": {},
   "outputs": [],
   "source": [
    "%%bash\n",
    ">    $ git commit -m \"my recent changes\""
   ]
  },
  {
   "cell_type": "markdown",
   "id": "afc9acef",
   "metadata": {},
   "source": [
    ">    {: .language-bash}"
   ]
  },
  {
   "cell_type": "code",
   "execution_count": null,
   "id": "2be364ac",
   "metadata": {},
   "outputs": [],
   "source": [
    "%%bash\n",
    ">    $ git init myfile.txt\n",
    ">    $ git commit -m \"my recent changes\""
   ]
  },
  {
   "cell_type": "markdown",
   "id": "9b9e8a72",
   "metadata": {},
   "source": [
    ">    {: .language-bash}"
   ]
  },
  {
   "cell_type": "code",
   "execution_count": null,
   "id": "4ed0f2ea",
   "metadata": {},
   "outputs": [],
   "source": [
    "%%bash\n",
    ">    $ git add myfile.txt\n",
    ">    $ git commit -m \"my recent changes\""
   ]
  },
  {
   "cell_type": "markdown",
   "id": "e4556fd2",
   "metadata": {},
   "source": [
    ">    {: .language-bash}"
   ]
  },
  {
   "cell_type": "code",
   "execution_count": null,
   "id": "c1e27a08",
   "metadata": {},
   "outputs": [],
   "source": [
    "%%bash\n",
    ">    $ git commit -m myfile.txt \"my recent changes\""
   ]
  },
  {
   "cell_type": "markdown",
   "id": "710a2e28",
   "metadata": {},
   "source": [
    "```\n",
    "```\n",
    "\n",
    ">    {: .language-bash}\n",
    ">\n",
    "> > ## Solution\n",
    "> >\n",
    "> > 1. Would only create a commit if files have already been staged.\n",
    "> > 2. Would try to create a new repository.\n",
    "> > 3. Is correct: first add the file to the staging area, then commit.\n",
    "> > 4. Would try to commit a file \"my recent changes\" with the message myfile.txt.\n",
    "> {: .solution}\n",
    "{: .challenge}\n",
    "> ## Committing Multiple Files\n",
    ">\n",
    "> The staging area can hold changes from any number of files\n",
    "> that you want to commit as a single snapshot.\n",
    ">\n",
    "> 1. Add some text to `mars.txt` noting your decision\n",
    "> to consider Venus as a base\n",
    "> 2. Create a new file `venus.txt` with your initial thoughts\n",
    "> about Venus as a base for you and your friends\n",
    "> 3. Add changes from both files to the staging area,\n",
    "> and commit those changes.\n",
    ">\n",
    "> > ## Solution\n",
    "> >\n",
    "> > First we make our changes to the `mars.txt` and `venus.txt` files:"
   ]
  },
  {
   "cell_type": "code",
   "execution_count": null,
   "id": "70c965cb",
   "metadata": {},
   "outputs": [],
   "source": [
    "%%bash\n",
    "> > $ nano mars.txt\n",
    "> > $ cat mars.txt"
   ]
  },
  {
   "cell_type": "markdown",
   "id": "7cc2b725",
   "metadata": {},
   "source": [
    "> > {: .language-bash}\n",
    "\n",
    "```\n",
    "> > Maybe I should start with a base on Venus.\n",
    "```\n",
    "\n",
    "> > {: .output}"
   ]
  },
  {
   "cell_type": "code",
   "execution_count": null,
   "id": "9387957a",
   "metadata": {},
   "outputs": [],
   "source": [
    "%%bash\n",
    "> > $ nano venus.txt\n",
    "> > $ cat venus.txt"
   ]
  },
  {
   "cell_type": "markdown",
   "id": "9a460b2b",
   "metadata": {},
   "source": [
    "> > {: .language-bash}\n",
    "\n",
    "```\n",
    "> > Venus is a nice planet and I definitely should consider it as a base.\n",
    "```\n",
    "\n",
    "> > {: .output}\n",
    "> > Now you can add both files to the staging area. We can do that in one line:\n",
    "> >"
   ]
  },
  {
   "cell_type": "code",
   "execution_count": null,
   "id": "87d0862c",
   "metadata": {},
   "outputs": [],
   "source": [
    "%%bash\n",
    "> > $ git add mars.txt venus.txt"
   ]
  },
  {
   "cell_type": "markdown",
   "id": "afa4c762",
   "metadata": {},
   "source": [
    "```\n",
    "```\n",
    "\n",
    "> > {: .language-bash}\n",
    "> > Or with multiple commands:"
   ]
  },
  {
   "cell_type": "code",
   "execution_count": null,
   "id": "0379dd3f",
   "metadata": {},
   "outputs": [],
   "source": [
    "%%bash\n",
    "> > $ git add mars.txt\n",
    "> > $ git add venus.txt"
   ]
  },
  {
   "cell_type": "markdown",
   "id": "8fa27b67",
   "metadata": {},
   "source": [
    "```\n",
    "```\n",
    "\n",
    "> > {: .language-bash}\n",
    "> > Now the files are ready to commit. You can check that using `git status`. If you are ready to commit use:"
   ]
  },
  {
   "cell_type": "code",
   "execution_count": null,
   "id": "cbec856a",
   "metadata": {},
   "outputs": [],
   "source": [
    "%%bash\n",
    "> > $ git commit -m \"Write plans to start a base on Venus\""
   ]
  },
  {
   "cell_type": "markdown",
   "id": "dc6df3fa",
   "metadata": {},
   "source": [
    "> > {: .language-bash}\n",
    "\n",
    "```\n",
    "> > [main cc127c2]\n",
    "> >  Write plans to start a base on Venus\n",
    "> >  2 files changed, 2 insertions(+)\n",
    "> >  create mode 100644 venus.txt\n",
    "```\n",
    "\n",
    "> > {: .output}\n",
    "> {: .solution}\n",
    "{: .challenge}\n",
    "> ## `bio` Repository\n",
    ">\n",
    "> * Create a new Git repository on your computer called `bio`.\n",
    "> * Write a three-line biography for yourself in a file called `me.txt`,\n",
    "> commit your changes\n",
    "> * Modify one line, add a fourth line\n",
    "> * Display the differences\n",
    "> between its updated state and its original state.\n",
    ">\n",
    "> > ## Solution\n",
    "> >\n",
    "> > If needed, move out of the `planets` folder:\n",
    "> >"
   ]
  },
  {
   "cell_type": "code",
   "execution_count": null,
   "id": "d0494ae6",
   "metadata": {},
   "outputs": [],
   "source": [
    "%%bash\n",
    "> > $ cd .."
   ]
  },
  {
   "cell_type": "markdown",
   "id": "eb74b9f7",
   "metadata": {},
   "source": [
    "```\n",
    "```\n",
    "\n",
    "> > {: .language-bash}\n",
    "> >\n",
    "> > Create a new folder called `bio` and 'move' into it:\n",
    "> >"
   ]
  },
  {
   "cell_type": "code",
   "execution_count": null,
   "id": "a5df2d30",
   "metadata": {},
   "outputs": [],
   "source": [
    "%%bash\n",
    "> > $ mkdir bio\n",
    "> > $ cd bio"
   ]
  },
  {
   "cell_type": "markdown",
   "id": "85b44d56",
   "metadata": {},
   "source": [
    "```\n",
    "```\n",
    "\n",
    "> > {: .language-bash}\n",
    "> >\n",
    "> > Initialise git:\n",
    "> >"
   ]
  },
  {
   "cell_type": "code",
   "execution_count": null,
   "id": "c303db32",
   "metadata": {},
   "outputs": [],
   "source": [
    "%%bash\n",
    "> > $ git init"
   ]
  },
  {
   "cell_type": "markdown",
   "id": "a0798785",
   "metadata": {},
   "source": [
    "```\n",
    "```\n",
    "\n",
    "> > {: .language-bash}\n",
    "> >\n",
    "> > Create your biography file `me.txt` using `nano` or another text editor.\n",
    "> > Once in place, add and commit it to the repository:\n",
    "> >"
   ]
  },
  {
   "cell_type": "code",
   "execution_count": null,
   "id": "4157770a",
   "metadata": {},
   "outputs": [],
   "source": [
    "%%bash\n",
    "> > $ git add me.txt\n",
    "> > $ git commit -m \"Add biography file\""
   ]
  },
  {
   "cell_type": "markdown",
   "id": "afd415dd",
   "metadata": {},
   "source": [
    "```\n",
    "```\n",
    "\n",
    "> > {: .language-bash}\n",
    "> >\n",
    "> > Modify the file as described (modify one line, add a fourth line).\n",
    "> > To display the differences\n",
    "> > between its updated state and its original state, use `git diff`:\n",
    "> >"
   ]
  },
  {
   "cell_type": "code",
   "execution_count": null,
   "id": "170d0a8c",
   "metadata": {
    "lines_to_next_cell": 0
   },
   "outputs": [],
   "source": [
    "%%bash\n",
    "> > $ git diff me.txt"
   ]
  },
  {
   "cell_type": "markdown",
   "id": "4f70a25c",
   "metadata": {},
   "source": []
  }
 ],
 "metadata": {
  "jupytext": {
   "formats": "ipynb,md"
  },
  "kernelspec": {
   "display_name": "Python 3 (ipykernel)",
   "language": "python",
   "name": "python3"
  }
 },
 "nbformat": 4,
 "nbformat_minor": 5
}
