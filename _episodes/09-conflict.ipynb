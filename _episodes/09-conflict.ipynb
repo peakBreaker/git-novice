{
 "cells": [
  {
   "cell_type": "raw",
   "id": "3902a44e",
   "metadata": {},
   "source": [
    "---\n",
    "\n",
    "---"
   ]
  },
  {
   "cell_type": "markdown",
   "id": "d5979cd7",
   "metadata": {},
   "source": [
    "\n",
    "```\n",
    "```\n",
    "\n",
    "---\n",
    "title: Conflicts\n",
    "teaching: 15\n",
    "exercises: 0\n",
    "questions:\n",
    "- \"What do I do when my changes conflict with someone else's?\"\n",
    "objectives:\n",
    "- \"Explain what conflicts are and when they can occur.\"\n",
    "- \"Resolve conflicts resulting from a merge.\"\n",
    "keypoints:\n",
    "- \"Conflicts occur when two or more people change the same lines of the same file.\"\n",
    "- \"The version control system does not allow people to overwrite each other's changes blindly, but highlights conflicts so that they can be resolved.\"\n",
    "---\n",
    "As soon as people can work in parallel, they'll likely step on each other's\n",
    "toes.  This will even happen with a single person: if we are working on\n",
    "a piece of software on both our laptop and a server in the lab, we could make\n",
    "different changes to each copy.  Version control helps us manage these\n",
    "[conflicts]({{ page.root}}{% link reference.md %}#conflict) by giving us tools to\n",
    "[resolve]({{ page.root }}{% link reference.md %}#resolve) overlapping changes.\n",
    "To see how we can resolve conflicts, we must first create one.  The file\n",
    "`mars.txt` currently looks like this in both partners' copies of our `planets`\n",
    "repository:"
   ]
  },
  {
   "cell_type": "code",
   "execution_count": null,
   "id": "d8332028",
   "metadata": {},
   "outputs": [],
   "source": [
    "%%bash\n",
    "$ cat mars.txt"
   ]
  },
  {
   "cell_type": "markdown",
   "id": "9f4bccdc",
   "metadata": {},
   "source": [
    "{: .language-bash}\n",
    "\n",
    "```\n",
    "Cold and dry, but everything is my favorite color\n",
    "The two moons may be a problem for Wolfman\n",
    "But the Mummy will appreciate the lack of humidity\n",
    "```\n",
    "\n",
    "{: .output}\n",
    "Let's add a line to the collaborator's copy only:"
   ]
  },
  {
   "cell_type": "code",
   "execution_count": null,
   "id": "e7d03fa3",
   "metadata": {},
   "outputs": [],
   "source": [
    "%%bash\n",
    "$ nano mars.txt\n",
    "$ cat mars.txt"
   ]
  },
  {
   "cell_type": "markdown",
   "id": "819e179b",
   "metadata": {},
   "source": [
    "{: .language-bash}\n",
    "\n",
    "```\n",
    "Cold and dry, but everything is my favorite color\n",
    "The two moons may be a problem for Wolfman\n",
    "But the Mummy will appreciate the lack of humidity\n",
    "This line added to Wolfman's copy\n",
    "```\n",
    "\n",
    "{: .output}\n",
    "and then push the change to GitHub:"
   ]
  },
  {
   "cell_type": "code",
   "execution_count": null,
   "id": "cfd9d860",
   "metadata": {},
   "outputs": [],
   "source": [
    "%%bash\n",
    "$ git add mars.txt\n",
    "$ git commit -m \"Add a line in our home copy\""
   ]
  },
  {
   "cell_type": "markdown",
   "id": "c20464d6",
   "metadata": {},
   "source": [
    "{: .language-bash}\n",
    "\n",
    "```\n",
    "[main 5ae9631] Add a line in our home copy\n",
    "1 file changed, 1 insertion(+)\n",
    "```\n",
    "\n",
    "{: .output}"
   ]
  },
  {
   "cell_type": "code",
   "execution_count": null,
   "id": "fac644cf",
   "metadata": {},
   "outputs": [],
   "source": [
    "%%bash\n",
    "$ git push origin main"
   ]
  },
  {
   "cell_type": "markdown",
   "id": "6b641893",
   "metadata": {},
   "source": [
    "{: .language-bash}\n",
    "\n",
    "```\n",
    "Enumerating objects: 5, done.\n",
    "Counting objects: 100% (5/5), done.\n",
    "Delta compression using up to 8 threads\n",
    "Compressing objects: 100% (3/3), done.\n",
    "Writing objects: 100% (3/3), 331 bytes | 331.00 KiB/s, done.\n",
    "Total 3 (delta 2), reused 0 (delta 0)\n",
    "remote: Resolving deltas: 100% (2/2), completed with 2 local objects.\n",
    "To https://github.com/vlad/planets.git\n",
    "29aba7c..dabb4c8  main -> main\n",
    "```\n",
    "\n",
    "{: .output}\n",
    "Now let's have the owner\n",
    "make a different change to their copy\n",
    "*without* updating from GitHub:"
   ]
  },
  {
   "cell_type": "code",
   "execution_count": null,
   "id": "a9be1add",
   "metadata": {},
   "outputs": [],
   "source": [
    "%%bash\n",
    "$ nano mars.txt\n",
    "$ cat mars.txt"
   ]
  },
  {
   "cell_type": "markdown",
   "id": "de679c64",
   "metadata": {},
   "source": [
    "{: .language-bash}\n",
    "\n",
    "```\n",
    "Cold and dry, but everything is my favorite color\n",
    "The two moons may be a problem for Wolfman\n",
    "But the Mummy will appreciate the lack of humidity\n",
    "We added a different line in the other copy\n",
    "```\n",
    "\n",
    "{: .output}\n",
    "We can commit the change locally:"
   ]
  },
  {
   "cell_type": "code",
   "execution_count": null,
   "id": "afa95a73",
   "metadata": {},
   "outputs": [],
   "source": [
    "%%bash\n",
    "$ git add mars.txt\n",
    "$ git commit -m \"Add a line in my copy\""
   ]
  },
  {
   "cell_type": "markdown",
   "id": "ef38d340",
   "metadata": {},
   "source": [
    "{: .language-bash}\n",
    "\n",
    "```\n",
    "[main 07ebc69] Add a line in my copy\n",
    "1 file changed, 1 insertion(+)\n",
    "```\n",
    "\n",
    "{: .output}\n",
    "but Git won't let us push it to GitHub:"
   ]
  },
  {
   "cell_type": "code",
   "execution_count": null,
   "id": "77b89ac0",
   "metadata": {},
   "outputs": [],
   "source": [
    "%%bash\n",
    "$ git push origin main"
   ]
  },
  {
   "cell_type": "markdown",
   "id": "5a177022",
   "metadata": {},
   "source": [
    "{: .language-bash}\n",
    "\n",
    "```\n",
    "To https://github.com/vlad/planets.git\n",
    "! [rejected]        main -> main (fetch first)\n",
    "error: failed to push some refs to 'https://github.com/vlad/planets.git'\n",
    "hint: Updates were rejected because the remote contains work that you do\n",
    "hint: not have locally. This is usually caused by another repository pushing\n",
    "hint: to the same ref. You may want to first integrate the remote changes\n",
    "hint: (e.g., 'git pull ...') before pushing again.\n",
    "hint: See the 'Note about fast-forwards' in 'git push --help' for details.\n",
    "```\n",
    "\n",
    "{: .output}\n",
    "![The Conflicting Changes](../fig/conflict.svg)\n",
    "Git rejects the push because it detects that the remote repository has new updates that have not been\n",
    "incorporated into the local branch.\n",
    "What we have to do is pull the changes from GitHub,\n",
    "[merge]({{ page.root }}{% link reference.md %}#merge) them into the copy we're currently working in, and then push that.\n",
    "Let's start by pulling:"
   ]
  },
  {
   "cell_type": "code",
   "execution_count": null,
   "id": "7def2924",
   "metadata": {},
   "outputs": [],
   "source": [
    "%%bash\n",
    "$ git pull origin main"
   ]
  },
  {
   "cell_type": "markdown",
   "id": "a4c81d3e",
   "metadata": {},
   "source": [
    "{: .language-bash}\n",
    "\n",
    "```\n",
    "remote: Enumerating objects: 5, done.\n",
    "remote: Counting objects: 100% (5/5), done.\n",
    "remote: Compressing objects: 100% (1/1), done.\n",
    "remote: Total 3 (delta 2), reused 3 (delta 2), pack-reused 0\n",
    "Unpacking objects: 100% (3/3), done.\n",
    "From https://github.com/vlad/planets\n",
    "* branch            main     -> FETCH_HEAD\n",
    "29aba7c..dabb4c8  main     -> origin/main\n",
    "Auto-merging mars.txt\n",
    "CONFLICT (content): Merge conflict in mars.txt\n",
    "Automatic merge failed; fix conflicts and then commit the result.\n",
    "```\n",
    "\n",
    "{: .output}\n",
    "The `git pull` command updates the local repository to include those\n",
    "changes already included in the remote repository.\n",
    "After the changes from remote branch have been fetched, Git detects that changes made to the local copy\n",
    "overlap with those made to the remote repository, and therefore refuses to merge the two versions to\n",
    "stop us from trampling on our previous work. The conflict is marked in\n",
    "in the affected file:"
   ]
  },
  {
   "cell_type": "code",
   "execution_count": null,
   "id": "9d37aae4",
   "metadata": {},
   "outputs": [],
   "source": [
    "%%bash\n",
    "$ cat mars.txt"
   ]
  },
  {
   "cell_type": "markdown",
   "id": "e2d90436",
   "metadata": {},
   "source": [
    "{: .language-bash}\n",
    "\n",
    "```\n",
    "Cold and dry, but everything is my favorite color\n",
    "The two moons may be a problem for Wolfman\n",
    "But the Mummy will appreciate the lack of humidity\n",
    "<<<<<<< HEAD\n",
    "We added a different line in the other copy\n",
    "=======\n",
    "This line added to Wolfman's copy\n",
    ">>>>>>> dabb4c8c450e8475aee9b14b4383acc99f42af1d\n",
    "```\n",
    "\n",
    "{: .output}\n",
    "Our change is preceded by `<<<<<<< HEAD`.\n",
    "Git has then inserted `=======` as a separator between the conflicting changes\n",
    "and marked the end of the content downloaded from GitHub with `>>>>>>>`.\n",
    "(The string of letters and digits after that marker\n",
    "identifies the commit we've just downloaded.)\n",
    "It is now up to us to edit this file to remove these markers\n",
    "and reconcile the changes.\n",
    "We can do anything we want: keep the change made in the local repository, keep\n",
    "the change made in the remote repository, write something new to replace both,\n",
    "or get rid of the change entirely.\n",
    "Let's replace both so that the file looks like this:"
   ]
  },
  {
   "cell_type": "code",
   "execution_count": null,
   "id": "08b41b43",
   "metadata": {},
   "outputs": [],
   "source": [
    "%%bash\n",
    "$ cat mars.txt"
   ]
  },
  {
   "cell_type": "markdown",
   "id": "9b98e1bb",
   "metadata": {},
   "source": [
    "{: .language-bash}\n",
    "\n",
    "```\n",
    "Cold and dry, but everything is my favorite color\n",
    "The two moons may be a problem for Wolfman\n",
    "But the Mummy will appreciate the lack of humidity\n",
    "We removed the conflict on this line\n",
    "```\n",
    "\n",
    "{: .output}\n",
    "To finish merging,\n",
    "we add `mars.txt` to the changes being made by the merge\n",
    "and then commit:"
   ]
  },
  {
   "cell_type": "code",
   "execution_count": null,
   "id": "13bb28a3",
   "metadata": {},
   "outputs": [],
   "source": [
    "%%bash\n",
    "$ git add mars.txt\n",
    "$ git status"
   ]
  },
  {
   "cell_type": "markdown",
   "id": "77f0df76",
   "metadata": {},
   "source": [
    "{: .language-bash}\n",
    "\n",
    "```\n",
    "On branch main\n",
    "All conflicts fixed but you are still merging.\n",
    "(use \"git commit\" to conclude merge)\n",
    "Changes to be committed:\n",
    "modified:   mars.txt\n",
    "```\n",
    "\n",
    "{: .output}"
   ]
  },
  {
   "cell_type": "code",
   "execution_count": null,
   "id": "76678f32",
   "metadata": {},
   "outputs": [],
   "source": [
    "%%bash\n",
    "$ git commit -m \"Merge changes from GitHub\""
   ]
  },
  {
   "cell_type": "markdown",
   "id": "2a690d36",
   "metadata": {},
   "source": [
    "{: .language-bash}\n",
    "\n",
    "```\n",
    "[main 2abf2b1] Merge changes from GitHub\n",
    "```\n",
    "\n",
    "{: .output}\n",
    "Now we can push our changes to GitHub:"
   ]
  },
  {
   "cell_type": "code",
   "execution_count": null,
   "id": "79874888",
   "metadata": {},
   "outputs": [],
   "source": [
    "%%bash\n",
    "$ git push origin main"
   ]
  },
  {
   "cell_type": "markdown",
   "id": "4b4190b8",
   "metadata": {},
   "source": [
    "{: .language-bash}\n",
    "\n",
    "```\n",
    "Enumerating objects: 10, done.\n",
    "Counting objects: 100% (10/10), done.\n",
    "Delta compression using up to 8 threads\n",
    "Compressing objects: 100% (6/6), done.\n",
    "Writing objects: 100% (6/6), 645 bytes | 645.00 KiB/s, done.\n",
    "Total 6 (delta 4), reused 0 (delta 0)\n",
    "remote: Resolving deltas: 100% (4/4), completed with 2 local objects.\n",
    "To https://github.com/vlad/planets.git\n",
    "dabb4c8..2abf2b1  main -> main\n",
    "```\n",
    "\n",
    "{: .output}\n",
    "Git keeps track of what we've merged with what,\n",
    "so we don't have to fix things by hand again\n",
    "when the collaborator who made the first change pulls again:"
   ]
  },
  {
   "cell_type": "code",
   "execution_count": null,
   "id": "3359727d",
   "metadata": {},
   "outputs": [],
   "source": [
    "%%bash\n",
    "$ git pull origin main"
   ]
  },
  {
   "cell_type": "markdown",
   "id": "d7597bd9",
   "metadata": {},
   "source": [
    "{: .language-bash}\n",
    "\n",
    "```\n",
    "remote: Enumerating objects: 10, done.\n",
    "remote: Counting objects: 100% (10/10), done.\n",
    "remote: Compressing objects: 100% (2/2), done.\n",
    "remote: Total 6 (delta 4), reused 6 (delta 4), pack-reused 0\n",
    "Unpacking objects: 100% (6/6), done.\n",
    "From https://github.com/vlad/planets\n",
    "* branch            main     -> FETCH_HEAD\n",
    "dabb4c8..2abf2b1  main     -> origin/main\n",
    "Updating dabb4c8..2abf2b1\n",
    "Fast-forward\n",
    "mars.txt | 2 +-\n",
    "1 file changed, 1 insertion(+), 1 deletion(-)\n",
    "```\n",
    "\n",
    "{: .output}\n",
    "We get the merged file:"
   ]
  },
  {
   "cell_type": "code",
   "execution_count": null,
   "id": "f342e477",
   "metadata": {},
   "outputs": [],
   "source": [
    "%%bash\n",
    "$ cat mars.txt"
   ]
  },
  {
   "cell_type": "markdown",
   "id": "23c67c2e",
   "metadata": {},
   "source": [
    "{: .language-bash}\n",
    "\n",
    "```\n",
    "Cold and dry, but everything is my favorite color\n",
    "The two moons may be a problem for Wolfman\n",
    "But the Mummy will appreciate the lack of humidity\n",
    "We removed the conflict on this line\n",
    "```\n",
    "\n",
    "{: .output}\n",
    "We don't need to merge again because Git knows someone has already done that.\n",
    "Git's ability to resolve conflicts is very useful, but conflict resolution\n",
    "costs time and effort, and can introduce errors if conflicts are not resolved\n",
    "correctly. If you find yourself resolving a lot of conflicts in a project,\n",
    "consider these technical approaches to reducing them:\n",
    "- Pull from upstream more frequently, especially before starting new work\n",
    "- Use topic branches to segregate work, merging to main when complete\n",
    "- Make smaller more atomic commits\n",
    "- Where logically appropriate, break large files into smaller ones so that it is\n",
    "less likely that two authors will alter the same file simultaneously\n",
    "Conflicts can also be minimized with project management strategies:\n",
    "- Clarify who is responsible for what areas with your collaborators\n",
    "- Discuss what order tasks should be carried out in with your collaborators so\n",
    "that tasks expected to change the same lines won't be worked on simultaneously\n",
    "- If the conflicts are stylistic churn (e.g. tabs vs. spaces), establish a\n",
    "project convention that is governing and use code style tools (e.g.\n",
    "`htmltidy`, `perltidy`, `rubocop`, etc.) to enforce, if necessary\n",
    "> ## Solving Conflicts that You Create\n",
    ">\n",
    "> Clone the repository created by your instructor.\n",
    "> Add a new file to it,\n",
    "> and modify an existing file (your instructor will tell you which one).\n",
    "> When asked by your instructor,\n",
    "> pull her changes from the repository to create a conflict,\n",
    "> then resolve it.\n",
    "{: .challenge}\n",
    "> ## Conflicts on Non-textual files\n",
    ">\n",
    "> What does Git do\n",
    "> when there is a conflict in an image or some other non-textual file\n",
    "> that is stored in version control?\n",
    ">\n",
    "> > ## Solution\n",
    "> >\n",
    "> > Let's try it. Suppose Dracula takes a picture of Martian surface and\n",
    "> > calls it `mars.jpg`.\n",
    "> >\n",
    "> > If you do not have an image file of Mars available, you can create\n",
    "> > a dummy binary file like this:\n",
    "> >"
   ]
  },
  {
   "cell_type": "code",
   "execution_count": null,
   "id": "3b97f7fd",
   "metadata": {},
   "outputs": [],
   "source": [
    "%%bash\n",
    "> > $ head -c 1024 /dev/urandom > mars.jpg\n",
    "> > $ ls -lh mars.jpg"
   ]
  },
  {
   "cell_type": "markdown",
   "id": "89717eb7",
   "metadata": {},
   "source": [
    "```\n",
    "```\n",
    "\n",
    "> > {: .language-bash}\n",
    "> >\n",
    "\n",
    "```\n",
    "> > -rw-r--r-- 1 vlad 57095 1.0K Mar  8 20:24 mars.jpg\n",
    "```\n",
    "\n",
    "> > {: .output}\n",
    "> >\n",
    "> > `ls` shows us that this created a 1-kilobyte file. It is full of\n",
    "> > random bytes read from the special file, `/dev/urandom`.\n",
    "> >\n",
    "> > Now, suppose Dracula adds `mars.jpg` to his repository:\n",
    "> >"
   ]
  },
  {
   "cell_type": "code",
   "execution_count": null,
   "id": "3fa1a163",
   "metadata": {},
   "outputs": [],
   "source": [
    "%%bash\n",
    "> > $ git add mars.jpg\n",
    "> > $ git commit -m \"Add picture of Martian surface\""
   ]
  },
  {
   "cell_type": "markdown",
   "id": "b3f57709",
   "metadata": {},
   "source": [
    "```\n",
    "```\n",
    "\n",
    "> > {: .language-bash}\n",
    "> >\n",
    "\n",
    "```\n",
    "> > [main 8e4115c] Add picture of Martian surface\n",
    "> >  1 file changed, 0 insertions(+), 0 deletions(-)\n",
    "> >  create mode 100644 mars.jpg\n",
    "```\n",
    "\n",
    "> > {: .output}\n",
    "> >\n",
    "> > Suppose that Wolfman has added a similar picture in the meantime.\n",
    "> > His is a picture of the Martian sky, but it is *also* called `mars.jpg`.\n",
    "> > When Dracula tries to push, he gets a familiar message:\n",
    "> >"
   ]
  },
  {
   "cell_type": "code",
   "execution_count": null,
   "id": "ec018f54",
   "metadata": {},
   "outputs": [],
   "source": [
    "%%bash\n",
    "> > $ git push origin main"
   ]
  },
  {
   "cell_type": "markdown",
   "id": "117144de",
   "metadata": {},
   "source": [
    "```\n",
    "```\n",
    "\n",
    "> > {: .language-bash}\n",
    "> >\n",
    "\n",
    "```\n",
    "> > To https://github.com/vlad/planets.git\n",
    "> >  ! [rejected]        main -> main (fetch first)\n",
    "> > error: failed to push some refs to 'https://github.com/vlad/planets.git'\n",
    "> > hint: Updates were rejected because the remote contains work that you do\n",
    "> > hint: not have locally. This is usually caused by another repository pushing\n",
    "> > hint: to the same ref. You may want to first integrate the remote changes\n",
    "> > hint: (e.g., 'git pull ...') before pushing again.\n",
    "> > hint: See the 'Note about fast-forwards' in 'git push --help' for details.\n",
    "```\n",
    "\n",
    "> > {: .output}\n",
    "> >\n",
    "> > We've learned that we must pull first and resolve any conflicts:\n",
    "> >"
   ]
  },
  {
   "cell_type": "code",
   "execution_count": null,
   "id": "dc0e4d20",
   "metadata": {},
   "outputs": [],
   "source": [
    "%%bash\n",
    "> > $ git pull origin main"
   ]
  },
  {
   "cell_type": "markdown",
   "id": "7ddb7f12",
   "metadata": {},
   "source": [
    "```\n",
    "```\n",
    "\n",
    "> > {: .language-bash}\n",
    "> >\n",
    "> > When there is a conflict on an image or other binary file, git prints\n",
    "> > a message like this:\n",
    "> >\n",
    "\n",
    "```\n",
    "> > $ git pull origin main\n",
    "> > remote: Counting objects: 3, done.\n",
    "> > remote: Compressing objects: 100% (3/3), done.\n",
    "> > remote: Total 3 (delta 0), reused 0 (delta 0)\n",
    "> > Unpacking objects: 100% (3/3), done.\n",
    "> > From https://github.com/vlad/planets.git\n",
    "> >  * branch            main     -> FETCH_HEAD\n",
    "> >    6a67967..439dc8c  main     -> origin/main\n",
    "> > warning: Cannot merge binary files: mars.jpg (HEAD vs. 439dc8c08869c342438f6dc4a2b615b05b93c76e)\n",
    "> > Auto-merging mars.jpg\n",
    "> > CONFLICT (add/add): Merge conflict in mars.jpg\n",
    "> > Automatic merge failed; fix conflicts and then commit the result.\n",
    "```\n",
    "\n",
    "> > {: .output}\n",
    "> >\n",
    "> > The conflict message here is mostly the same as it was for `mars.txt`, but\n",
    "> > there is one key additional line:\n",
    "> >\n",
    "\n",
    "```\n",
    "> > warning: Cannot merge binary files: mars.jpg (HEAD vs. 439dc8c08869c342438f6dc4a2b615b05b93c76e)\n",
    "```\n",
    "\n",
    "> > {: .output}\n",
    "> >\n",
    "> > Git cannot automatically insert conflict markers into an image as it does\n",
    "> > for text files. So, instead of editing the image file, we must check out\n",
    "> > the version we want to keep. Then we can add and commit this version.\n",
    "> >\n",
    "> > On the key line above, Git has conveniently given us commit identifiers\n",
    "> > for the two versions of `mars.jpg`. Our version is `HEAD`, and Wolfman's\n",
    "> > version is `439dc8c0...`. If we want to use our version, we can use\n",
    "> > `git checkout`:\n",
    "> >"
   ]
  },
  {
   "cell_type": "code",
   "execution_count": null,
   "id": "0ae1a63f",
   "metadata": {},
   "outputs": [],
   "source": [
    "%%bash\n",
    "> > $ git checkout HEAD mars.jpg\n",
    "> > $ git add mars.jpg\n",
    "> > $ git commit -m \"Use image of surface instead of sky\""
   ]
  },
  {
   "cell_type": "markdown",
   "id": "1b58051e",
   "metadata": {},
   "source": [
    "```\n",
    "```\n",
    "\n",
    "> > {: .language-bash}\n",
    "> >\n",
    "\n",
    "```\n",
    "> > [main 21032c3] Use image of surface instead of sky\n",
    "```\n",
    "\n",
    "> > {: .output}\n",
    "> >\n",
    "> > If instead we want to use Wolfman's version, we can use `git checkout` with\n",
    "> > Wolfman's commit identifier, `439dc8c0`:\n",
    "> >"
   ]
  },
  {
   "cell_type": "code",
   "execution_count": null,
   "id": "5397a781",
   "metadata": {},
   "outputs": [],
   "source": [
    "%%bash\n",
    "> > $ git checkout 439dc8c0 mars.jpg\n",
    "> > $ git add mars.jpg\n",
    "> > $ git commit -m \"Use image of sky instead of surface\""
   ]
  },
  {
   "cell_type": "markdown",
   "id": "49a73dda",
   "metadata": {},
   "source": [
    "```\n",
    "```\n",
    "\n",
    "> > {: .language-bash}\n",
    "> >\n",
    "\n",
    "```\n",
    "> > [main da21b34] Use image of sky instead of surface\n",
    "```\n",
    "\n",
    "> > {: .output}\n",
    "> >\n",
    "> > We can also keep *both* images. The catch is that we cannot keep them\n",
    "> > under the same name. But, we can check out each version in succession\n",
    "> > and *rename* it, then add the renamed versions. First, check out each\n",
    "> > image and rename it:\n",
    "> >"
   ]
  },
  {
   "cell_type": "code",
   "execution_count": null,
   "id": "04f7e2f6",
   "metadata": {},
   "outputs": [],
   "source": [
    "%%bash\n",
    "> > $ git checkout HEAD mars.jpg\n",
    "> > $ git mv mars.jpg mars-surface.jpg\n",
    "> > $ git checkout 439dc8c0 mars.jpg\n",
    "> > $ mv mars.jpg mars-sky.jpg"
   ]
  },
  {
   "cell_type": "markdown",
   "id": "cb8cd32d",
   "metadata": {},
   "source": [
    "```\n",
    "```\n",
    "\n",
    "> > {: .language-bash}\n",
    "> >\n",
    "> > Then, remove the old `mars.jpg` and add the two new files:\n",
    "> >"
   ]
  },
  {
   "cell_type": "code",
   "execution_count": null,
   "id": "4dfaed4f",
   "metadata": {},
   "outputs": [],
   "source": [
    "%%bash\n",
    "> > $ git rm mars.jpg\n",
    "> > $ git add mars-surface.jpg\n",
    "> > $ git add mars-sky.jpg\n",
    "> > $ git commit -m \"Use two images: surface and sky\""
   ]
  },
  {
   "cell_type": "markdown",
   "id": "d96b9499",
   "metadata": {},
   "source": [
    "```\n",
    "```\n",
    "\n",
    "> > {: .language-bash}\n",
    "> >\n"
   ]
  }
 ],
 "metadata": {
  "jupytext": {
   "formats": "ipynb,md"
  },
  "kernelspec": {
   "display_name": "Python 3 (ipykernel)",
   "language": "python",
   "name": "python3"
  }
 },
 "nbformat": 4,
 "nbformat_minor": 5
}
