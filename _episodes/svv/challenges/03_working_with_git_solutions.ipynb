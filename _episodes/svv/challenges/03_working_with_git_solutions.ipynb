{
  "nbformat": 4,
  "nbformat_minor": 0,
  "metadata": {
    "colab": {
      "name": "03-working-with-git-solutions.ipynb",
      "provenance": []
    },
    "kernelspec": {
      "name": "python3",
      "display_name": "Python 3"
    },
    "language_info": {
      "name": "python"
    }
  },
  "cells": [
    {
      "cell_type": "markdown",
      "source": [
        "# Working with git\n",
        "\n",
        "In this exercise we will go through some basic git commands and test out some basic work with git\n",
        "\n",
        "## Challenge 1: Initializing\n",
        "\n",
        "To start out, your task will be to initialize your repository and attempt to make one initial commit."
      ],
      "metadata": {
        "id": "5F2XrMOVB-Qs"
      }
    },
    {
      "cell_type": "code",
      "source": [
        "%%bash\n",
        "\n",
        "rm -rf .git initial_file /root/.gitconfig"
      ],
      "metadata": {
        "id": "VOl6nTMrPrdn"
      },
      "execution_count": 1,
      "outputs": []
    },
    {
      "cell_type": "code",
      "source": [
        "%%bash\n",
        "  \n",
        "## your code here\n",
        "git init"
      ],
      "metadata": {
        "colab": {
          "base_uri": "https://localhost:8080/"
        },
        "id": "qvX7ul7hClrj",
        "outputId": "91ef0aae-38d3-44c2-fc78-0fda45cf8d20"
      },
      "execution_count": 2,
      "outputs": [
        {
          "output_type": "stream",
          "name": "stdout",
          "text": [
            "Initialized empty Git repository in /content/.git/\n"
          ]
        }
      ]
    },
    {
      "cell_type": "code",
      "source": [
        "%%bash\n",
        "\n",
        "## Your code here\n",
        "git status"
      ],
      "metadata": {
        "colab": {
          "base_uri": "https://localhost:8080/"
        },
        "id": "KZaOWP4mCp60",
        "outputId": "39be76d9-fb3f-4f97-cca0-7c3f05f230af"
      },
      "execution_count": 3,
      "outputs": [
        {
          "output_type": "stream",
          "name": "stdout",
          "text": [
            "On branch master\n",
            "\n",
            "No commits yet\n",
            "\n",
            "Untracked files:\n",
            "  (use \"git add <file>...\" to include in what will be committed)\n",
            "\n",
            "\t.config/\n",
            "\t.gitignore\n",
            "\n",
            "nothing added to commit but untracked files present (use \"git add\" to track)\n"
          ]
        }
      ]
    },
    {
      "cell_type": "code",
      "source": [
        "%%bash\n",
        "\n",
        "echo \"Hello git!\" > initial_file.txt\n",
        "git add initial_file.txt\n",
        "git commit -m \"initial commit\""
      ],
      "metadata": {
        "colab": {
          "base_uri": "https://localhost:8080/"
        },
        "id": "cS9b_8XLCw6b",
        "outputId": "a6ff23fc-0fe0-4552-e77d-31a5ab1fce72"
      },
      "execution_count": 4,
      "outputs": [
        {
          "output_type": "stream",
          "name": "stderr",
          "text": [
            "\n",
            "*** Please tell me who you are.\n",
            "\n",
            "Run\n",
            "\n",
            "  git config --global user.email \"you@example.com\"\n",
            "  git config --global user.name \"Your Name\"\n",
            "\n",
            "to set your account's default identity.\n",
            "Omit --global to set the identity only in this repository.\n",
            "\n",
            "fatal: unable to auto-detect email address (got 'root@7e11a9440237.(none)')\n"
          ]
        }
      ]
    },
    {
      "cell_type": "markdown",
      "source": [
        "## Challenge 2: Config\n",
        "\n",
        "Oh no, we arent configured! Follow the message above and configure a user for git.\n",
        "\n",
        "This gives git metadata, which it will attach to commits.\n",
        "\n",
        "Since colab is ephermal, this will not persist. So just give it some data to work with.\n",
        "\n",
        "After configuring - make the initial commit."
      ],
      "metadata": {
        "id": "AYwtb0c7DBL7"
      }
    },
    {
      "cell_type": "code",
      "source": [
        "%%bash\n",
        "git config --global user.email \"you@example.com\"\n",
        "git config --global user.name \"Your Name\""
      ],
      "metadata": {
        "id": "EfHRjmWxC_T-"
      },
      "execution_count": 5,
      "outputs": []
    },
    {
      "cell_type": "code",
      "source": [
        "%%bash \n",
        "\n",
        "git status"
      ],
      "metadata": {
        "colab": {
          "base_uri": "https://localhost:8080/"
        },
        "id": "a1ddzalbDX5L",
        "outputId": "503e0de7-db5b-4337-9c8e-474084f3e8c8"
      },
      "execution_count": 6,
      "outputs": [
        {
          "output_type": "stream",
          "name": "stdout",
          "text": [
            "On branch master\n",
            "\n",
            "No commits yet\n",
            "\n",
            "Changes to be committed:\n",
            "  (use \"git rm --cached <file>...\" to unstage)\n",
            "\n",
            "\tnew file:   initial_file.txt\n",
            "\n",
            "Untracked files:\n",
            "  (use \"git add <file>...\" to include in what will be committed)\n",
            "\n",
            "\t.config/\n",
            "\t.gitignore\n",
            "\n"
          ]
        }
      ]
    },
    {
      "cell_type": "code",
      "source": [
        "%%bash\n",
        "git commit"
      ],
      "metadata": {
        "colab": {
          "base_uri": "https://localhost:8080/"
        },
        "id": "5tW0oMGsDkCU",
        "outputId": "0641137b-e97a-4500-fc4c-c9ea0fd71b92"
      },
      "execution_count": 7,
      "outputs": [
        {
          "output_type": "stream",
          "name": "stderr",
          "text": [
            "error: unable to start editor 'editor'\n",
            "Please supply the message using either -m or -F option.\n"
          ]
        }
      ]
    },
    {
      "cell_type": "code",
      "source": [
        "%%bash\n",
        "git commit -m \"initial commit\""
      ],
      "metadata": {
        "colab": {
          "base_uri": "https://localhost:8080/"
        },
        "id": "NjLVrOqyDrNL",
        "outputId": "dd0e7a24-be56-4ef8-d1bf-a0958f42b468"
      },
      "execution_count": 8,
      "outputs": [
        {
          "output_type": "stream",
          "name": "stdout",
          "text": [
            "[master (root-commit) 1a5b063] initial commit\n",
            " 1 file changed, 1 insertion(+)\n",
            " create mode 100644 initial_file.txt\n"
          ]
        }
      ]
    },
    {
      "cell_type": "markdown",
      "source": [
        "## Challenge 3: Inspect the logs\n",
        "\n",
        "Take a look at our git logs "
      ],
      "metadata": {
        "id": "akYFQVDQDxo0"
      }
    },
    {
      "cell_type": "code",
      "source": [
        "%%bash\n",
        "\n",
        "git log"
      ],
      "metadata": {
        "colab": {
          "base_uri": "https://localhost:8080/"
        },
        "id": "E-60pi82Dvy7",
        "outputId": "57d232c7-642e-486e-d216-9c0d44d6ee2b"
      },
      "execution_count": 9,
      "outputs": [
        {
          "output_type": "stream",
          "name": "stdout",
          "text": [
            "commit 1a5b063df0645c6a6d48af3a131f2e13ed5ce634\n",
            "Author: Your Name <you@example.com>\n",
            "Date:   Tue Dec 21 23:26:52 2021 +0000\n",
            "\n",
            "    initial commit\n"
          ]
        }
      ]
    },
    {
      "cell_type": "markdown",
      "source": [
        "## Challenge 4: Ignoring things\n",
        "\n",
        "Add a git ignore file to ignore all .csv files in our repository"
      ],
      "metadata": {
        "id": "NGiZMJkPEEqj"
      }
    },
    {
      "cell_type": "code",
      "source": [
        "%%writefile .gitignore\n",
        "sample_data\n",
        "# your code here"
      ],
      "metadata": {
        "colab": {
          "base_uri": "https://localhost:8080/"
        },
        "id": "g6hC-k2lEDiF",
        "outputId": "63d40c05-2fd8-43d1-da38-6bbf3d5ab703"
      },
      "execution_count": 10,
      "outputs": [
        {
          "output_type": "stream",
          "name": "stdout",
          "text": [
            "Overwriting .gitignore\n"
          ]
        }
      ]
    },
    {
      "cell_type": "markdown",
      "source": [
        "## Challenge 5: Branch\n",
        "\n",
        "In this challenge, your goal is to create a new branch, and add one commit to your new branch.\n",
        "\n",
        "Finally move over to your master branch, and inspect the initial_file.txt"
      ],
      "metadata": {
        "id": "T8tKGSK3Ep_k"
      }
    },
    {
      "cell_type": "code",
      "source": [
        "%%bash\n",
        "\n",
        "git checkout -b mybranch"
      ],
      "metadata": {
        "colab": {
          "base_uri": "https://localhost:8080/"
        },
        "id": "xGKO4PxgEPiw",
        "outputId": "84fe0ace-4e17-4d25-c86b-bf3de2be4b01"
      },
      "execution_count": 11,
      "outputs": [
        {
          "output_type": "stream",
          "name": "stderr",
          "text": [
            "Switched to a new branch 'mybranch'\n"
          ]
        }
      ]
    },
    {
      "cell_type": "code",
      "source": [
        "%%writefile initial_file.txt\n",
        "\n",
        "This is some other text than what we initially added to the file\n"
      ],
      "metadata": {
        "colab": {
          "base_uri": "https://localhost:8080/"
        },
        "id": "RgQMDx_EFP4D",
        "outputId": "82da57ba-7466-422f-f84b-5ee5ad12410d"
      },
      "execution_count": 12,
      "outputs": [
        {
          "output_type": "stream",
          "name": "stdout",
          "text": [
            "Overwriting initial_file.txt\n"
          ]
        }
      ]
    },
    {
      "cell_type": "code",
      "source": [
        "%%bash\n",
        "\n",
        "git add initial_file.txt"
      ],
      "metadata": {
        "id": "901xNVcSFfvL"
      },
      "execution_count": 13,
      "outputs": []
    },
    {
      "cell_type": "code",
      "source": [
        "%%bash\n",
        "\n",
        "git commit -m \"chore: updated the inital file in repo\""
      ],
      "metadata": {
        "colab": {
          "base_uri": "https://localhost:8080/"
        },
        "id": "3LnSFC2pFt_Q",
        "outputId": "393eac69-c59b-410e-ce1b-05de36e03d61"
      },
      "execution_count": 14,
      "outputs": [
        {
          "output_type": "stream",
          "name": "stdout",
          "text": [
            "[mybranch 2566a1c] chore: updated the inital file in repo\n",
            " 1 file changed, 2 insertions(+), 1 deletion(-)\n"
          ]
        }
      ]
    },
    {
      "cell_type": "code",
      "source": [
        "%%bash\n",
        "\n",
        "git checkout master"
      ],
      "metadata": {
        "colab": {
          "base_uri": "https://localhost:8080/"
        },
        "id": "Vvlx-0aPGV1Y",
        "outputId": "80d1691b-ea86-4fac-dec0-dd674461d1d1"
      },
      "execution_count": 15,
      "outputs": [
        {
          "output_type": "stream",
          "name": "stderr",
          "text": [
            "Switched to branch 'master'\n"
          ]
        }
      ]
    },
    {
      "cell_type": "code",
      "source": [
        "%%bash\n",
        "\n",
        "cat initial_file.txt"
      ],
      "metadata": {
        "colab": {
          "base_uri": "https://localhost:8080/"
        },
        "id": "PRR7IX4GGUXN",
        "outputId": "d9d13247-9a74-4a6d-fa3b-399c00e3d80e"
      },
      "execution_count": 16,
      "outputs": [
        {
          "output_type": "stream",
          "name": "stdout",
          "text": [
            "Hello git!\n"
          ]
        }
      ]
    },
    {
      "cell_type": "markdown",
      "source": [
        "## Challenge 6: Diffing\n",
        "\n",
        "We want to inspect the difference between the file between our branches. Do that here. \n",
        "\n",
        "We also want to make some changes to the file and commit it to the main branch"
      ],
      "metadata": {
        "id": "b5d6DtBIE028"
      }
    },
    {
      "cell_type": "code",
      "source": [
        "%%bash\n",
        "\n",
        "git diff master mybranch -- initial_file.txt"
      ],
      "metadata": {
        "colab": {
          "base_uri": "https://localhost:8080/"
        },
        "id": "O-So5oQuF_uq",
        "outputId": "7646ae55-0fa6-461d-d5a3-578076d89d6b"
      },
      "execution_count": 17,
      "outputs": [
        {
          "output_type": "stream",
          "name": "stdout",
          "text": [
            "diff --git a/initial_file.txt b/initial_file.txt\n",
            "index 7a86002..1c06a19 100644\n",
            "--- a/initial_file.txt\n",
            "+++ b/initial_file.txt\n",
            "@@ -1 +1,2 @@\n",
            "-Hello git!\n",
            "+\n",
            "+This is some other text than what we initially added to the file\n",
            "\\ No newline at end of file\n"
          ]
        }
      ]
    },
    {
      "cell_type": "code",
      "source": [
        "%%bash\n",
        "echo \"This is some more text we're adding to the file!\" >> initial_file.txt\n",
        "cat initial_file.txt"
      ],
      "metadata": {
        "colab": {
          "base_uri": "https://localhost:8080/"
        },
        "id": "Z0KISCNuGHYb",
        "outputId": "6199d353-fe0f-4f05-b16b-12b9310183ce"
      },
      "execution_count": 18,
      "outputs": [
        {
          "output_type": "stream",
          "name": "stdout",
          "text": [
            "Hello git!\n",
            "This is some more text we're adding to the file!\n"
          ]
        }
      ]
    },
    {
      "cell_type": "code",
      "source": [
        "%%bash\n",
        "git add initial_file.txt\n",
        "git commit -m \"patch: made an update to the initial file\""
      ],
      "metadata": {
        "colab": {
          "base_uri": "https://localhost:8080/"
        },
        "id": "CeLUO_8QHweS",
        "outputId": "94414cf2-1a03-406b-fcfd-24f22dc15477"
      },
      "execution_count": 19,
      "outputs": [
        {
          "output_type": "stream",
          "name": "stdout",
          "text": [
            "[master d3b3579] patch: made an update to the initial file\n",
            " 1 file changed, 1 insertion(+)\n"
          ]
        }
      ]
    },
    {
      "cell_type": "markdown",
      "source": [
        "## Challenge 7: Merge\n",
        "\n",
        "Now lets merge our branches!"
      ],
      "metadata": {
        "id": "ShhKcnWHJGmL"
      }
    },
    {
      "cell_type": "code",
      "source": [
        "%%bash\n",
        "\n",
        "git merge mybranch"
      ],
      "metadata": {
        "colab": {
          "base_uri": "https://localhost:8080/"
        },
        "id": "xesJu7JdJPHJ",
        "outputId": "45592d20-4ec3-408c-e6b9-ecb23cd4d32d"
      },
      "execution_count": 20,
      "outputs": [
        {
          "output_type": "stream",
          "name": "stdout",
          "text": [
            "Auto-merging initial_file.txt\n",
            "CONFLICT (content): Merge conflict in initial_file.txt\n",
            "Automatic merge failed; fix conflicts and then commit the result.\n"
          ]
        }
      ]
    },
    {
      "cell_type": "markdown",
      "source": [
        "Oh no, a merge conflict! Looks like we edited the same file at the same place.\n",
        "\n",
        "Take a look at the file now, and the git status"
      ],
      "metadata": {
        "id": "Apr-TUDlJdJM"
      }
    },
    {
      "cell_type": "code",
      "source": [
        "%%bash\n",
        "\n",
        "cat initial_file.txt"
      ],
      "metadata": {
        "colab": {
          "base_uri": "https://localhost:8080/"
        },
        "id": "i54hL41NJq6w",
        "outputId": "fb7b2d56-ed35-4643-fb58-00841e071959"
      },
      "execution_count": 21,
      "outputs": [
        {
          "output_type": "stream",
          "name": "stdout",
          "text": [
            "<<<<<<< HEAD\n",
            "Hello git!\n",
            "This is some more text we're adding to the file!\n",
            "=======\n",
            "\n",
            "This is some other text than what we initially added to the file\n",
            ">>>>>>> mybranch\n"
          ]
        }
      ]
    },
    {
      "cell_type": "markdown",
      "source": [
        "Edit the file and fix it the way we want it.\n",
        "\n",
        "Remove the ===== and >>>> <<<<< lines for example"
      ],
      "metadata": {
        "id": "-AUlydVuJ6I0"
      }
    },
    {
      "cell_type": "code",
      "source": [
        "%%bash\n",
        "\n",
        "cat initial_file.txt"
      ],
      "metadata": {
        "colab": {
          "base_uri": "https://localhost:8080/"
        },
        "id": "XbzCK2x_KMqj",
        "outputId": "dfaa56e2-0850-431e-a2cc-9ca3c564ff8d"
      },
      "execution_count": 22,
      "outputs": [
        {
          "output_type": "stream",
          "name": "stdout",
          "text": [
            "Hello git!\n",
            "This is some more text we're adding to the file!\n",
            "\n",
            "This is some other text than what we initially added to the file\n",
            "\n"
          ]
        }
      ]
    },
    {
      "cell_type": "markdown",
      "source": [
        "Finally we stage the file and commit the changes we made. This will fix the merge conflict"
      ],
      "metadata": {
        "id": "3QYq96dIKSqD"
      }
    },
    {
      "cell_type": "code",
      "source": [
        "%%bash\n",
        "\n",
        "git add initial_file.txt\n",
        "git commit -m \"fix: merge conflict solved\""
      ],
      "metadata": {
        "colab": {
          "base_uri": "https://localhost:8080/"
        },
        "id": "ST0avI4tKQS7",
        "outputId": "2d9a49dd-6347-4b96-820c-5df57fe8bcf2"
      },
      "execution_count": 23,
      "outputs": [
        {
          "output_type": "stream",
          "name": "stdout",
          "text": [
            "[master 4d4702b] fix: merge conflict solved\n"
          ]
        }
      ]
    },
    {
      "cell_type": "markdown",
      "source": [
        "## Challenge 7: Rolling back\n",
        "\n",
        "Oh no! We didnt actually mean to do that!\n",
        "\n",
        "We want to roll back to second commit on master branch\n",
        "\n",
        "First take a look at the git log, use the --graph argument to give us a nice graph to look at!\n",
        "\n",
        "Hint: git revert with --strategy-option=theirs (to select the changes of the commit we want to revert to over the ones at HEAD)\n"
      ],
      "metadata": {
        "id": "wxTKButEGH-b"
      }
    },
    {
      "cell_type": "code",
      "source": [
        "%%bash\n",
        "git log --graph"
      ],
      "metadata": {
        "colab": {
          "base_uri": "https://localhost:8080/"
        },
        "id": "ZqZdZo7vUMnL",
        "outputId": "a162a6be-7194-47e0-b2f5-5efe4404c8a3"
      },
      "execution_count": 24,
      "outputs": [
        {
          "output_type": "stream",
          "name": "stdout",
          "text": [
            "*   commit 4d4702be2a788fd8aef987640ad17637add2531d\n",
            "|\\  Merge: d3b3579 2566a1c\n",
            "| | Author: Your Name <you@example.com>\n",
            "| | Date:   Tue Dec 21 23:27:43 2021 +0000\n",
            "| | \n",
            "| |     fix: merge conflict solved\n",
            "| | \n",
            "| * commit 2566a1c8cb5639043268a0337c99939ee02cff6f\n",
            "| | Author: Your Name <you@example.com>\n",
            "| | Date:   Tue Dec 21 23:27:01 2021 +0000\n",
            "| | \n",
            "| |     chore: updated the inital file in repo\n",
            "| | \n",
            "* | commit d3b35792516e45a62d1d6f420788bafd8ec710ad\n",
            "|/  Author: Your Name <you@example.com>\n",
            "|   Date:   Tue Dec 21 23:27:08 2021 +0000\n",
            "|   \n",
            "|       patch: made an update to the initial file\n",
            "| \n",
            "* commit 1a5b063df0645c6a6d48af3a131f2e13ed5ce634\n",
            "  Author: Your Name <you@example.com>\n",
            "  Date:   Tue Dec 21 23:26:52 2021 +0000\n",
            "  \n",
            "      initial commit\n"
          ]
        }
      ]
    },
    {
      "cell_type": "code",
      "source": [
        "%%bash\n",
        "\n",
        "git revert --strategy-option=theirs d3b35792516e45a62d1d6f420788bafd8ec710ad"
      ],
      "metadata": {
        "colab": {
          "base_uri": "https://localhost:8080/"
        },
        "id": "_dI_4bTzIrlO",
        "outputId": "38c8b625-bb20-4a0e-bc43-8167131e389d"
      },
      "execution_count": 27,
      "outputs": [
        {
          "output_type": "stream",
          "name": "stdout",
          "text": [
            "[master 3e15452] Revert \"patch: made an update to the initial file\"\n",
            " Date: Tue Dec 21 23:28:18 2021 +0000\n",
            " 1 file changed, 4 deletions(-)\n"
          ]
        }
      ]
    },
    {
      "cell_type": "code",
      "source": [
        "%%bash\n",
        "git status"
      ],
      "metadata": {
        "colab": {
          "base_uri": "https://localhost:8080/"
        },
        "id": "aWRpIIVNSbs-",
        "outputId": "e6b6d0bf-b1b9-4e08-e8bf-feb6c740a9b7"
      },
      "execution_count": 28,
      "outputs": [
        {
          "output_type": "stream",
          "name": "stdout",
          "text": [
            "On branch master\n",
            "Untracked files:\n",
            "  (use \"git add <file>...\" to include in what will be committed)\n",
            "\n",
            "\t.config/\n",
            "\t.gitignore\n",
            "\n",
            "nothing added to commit but untracked files present (use \"git add\" to track)\n"
          ]
        }
      ]
    },
    {
      "cell_type": "code",
      "source": [
        "%%bash\n",
        "\n",
        "cat initial_file.txt"
      ],
      "metadata": {
        "colab": {
          "base_uri": "https://localhost:8080/"
        },
        "id": "M3QmT4U-U3Ga",
        "outputId": "26fbe27c-ef46-40ce-ea71-8c61533d4b04"
      },
      "execution_count": 29,
      "outputs": [
        {
          "output_type": "stream",
          "name": "stdout",
          "text": [
            "Hello git!\n"
          ]
        }
      ]
    },
    {
      "cell_type": "markdown",
      "source": [
        "And we're back at the start! Good job!"
      ],
      "metadata": {
        "id": "s77oubkNU4mY"
      }
    }
  ]
}